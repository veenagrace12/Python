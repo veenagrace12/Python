{
 "cells": [
  {
   "cell_type": "markdown",
   "id": "f7d0560b",
   "metadata": {},
   "source": [
    "# Python Debugger – Python pdb"
   ]
  },
  {
   "cell_type": "code",
   "execution_count": null,
   "id": "12ac45f3",
   "metadata": {},
   "outputs": [],
   "source": [
    "\n",
    "Debugging in Python is facilitated by pdb module(python debugger) which comes built-in to the Python standard library. \n",
    "\n",
    "It is actually defined as the class Pdb which internally makes use of bdb(basic debugger functions) and \n",
    "\n",
    "cmd(support for line-oriented command interpreters) modules. \n"
   ]
  },
  {
   "cell_type": "code",
   "execution_count": null,
   "id": "97b6b7bf",
   "metadata": {},
   "outputs": [],
   "source": [
    "There are several ways to invoke a debugger \n",
    "\n",
    "To start debugging within the program just insert import pdb, pdb.set_trace() commands.  \n",
    "\n",
    "Run your script normally and execution will stop where we have introduced a breakpoint. \n",
    "\n",
    "So basically we are hard coding a breakpoint on a line below where we call set_trace(). \n",
    "\n",
    "With python 3.7 and later versions, there is a built-in function called breakpoint() which works in the same manner. \n",
    "\n",
    "Refer following example on how to insert set_trace() function."
   ]
  },
  {
   "cell_type": "code",
   "execution_count": null,
   "id": "13041a19",
   "metadata": {},
   "outputs": [],
   "source": [
    "Example: Addition of two numbers\n",
    "\n",
    "Intentional error: As input() returns string the program concatenates those strings instead of adding input numbers"
   ]
  },
  {
   "cell_type": "code",
   "execution_count": null,
   "id": "a08535ba",
   "metadata": {},
   "outputs": [
    {
     "name": "stdout",
     "output_type": "stream",
     "text": [
      "--Return--\n",
      "None\n",
      "> \u001b[1;32mc:\\users\\sowjanya\\appdata\\local\\temp\\ipykernel_1680\\3555486187.py\u001b[0m(9)\u001b[0;36m<module>\u001b[1;34m()\u001b[0m\n",
      "\n",
      "ipdb> 5\n",
      "5\n",
      "ipdb> 6\n",
      "6\n",
      "ipdb> 5+6\n",
      "11\n"
     ]
    }
   ],
   "source": [
    "import pdb\n",
    "\n",
    "\n",
    "def addition(a, b):\n",
    "    answer = a + b\n",
    "    return answer\n",
    "\n",
    "\n",
    "pdb.set_trace()\n",
    "x = input(\"Enter first number : \")\n",
    "y = input(\"Enter second number : \")\n",
    "sum = addition(x, y)\n",
    "print(sum)\n"
   ]
  },
  {
   "cell_type": "code",
   "execution_count": null,
   "id": "e6068591",
   "metadata": {},
   "outputs": [],
   "source": [
    "In the output on the first line after the angle bracket, we have the directory path of our file, \n",
    "\n",
    "line number where our breakpoint is located, and <module>. \n",
    "\n",
    "It’s basically saying that we have a breakpoint in exppdb.py on line number 10 at the module level. \n",
    "\n",
    "If you introduce the breakpoint inside the function then its name will appear inside <>. \n",
    "\n",
    "The next line is showing the code line where our execution is stopped.\n",
    "\n",
    "That line is not executed yet. Then we have the pdb prompt."
   ]
  },
  {
   "cell_type": "code",
   "execution_count": null,
   "id": "efeccaa6",
   "metadata": {},
   "outputs": [],
   "source": [
    "Now to navigate the code we can use the following commands :\n",
    "\n",
    "Command\tFunction\n",
    "\n",
    "help\tTo display all commands\n",
    "\n",
    "where\tDisplay the stack trace and line number of the current line\n",
    "\n",
    "next\tExecute the current line and move to the next line ignoring function calls\n",
    "\n",
    "step\tStep into functions called at the current line"
   ]
  },
  {
   "cell_type": "code",
   "execution_count": null,
   "id": "b47f4ac4",
   "metadata": {},
   "outputs": [],
   "source": [
    "From the Command Line: It is the easiest way of using a debugger. You just have to run the following command in terminal:\n",
    "\n",
    "python -m pdb exppdb.py (put your file name instead of exppdb.py)\n",
    "\n",
    "This statement loads your source code and stops execution on the first line of code."
   ]
  },
  {
   "cell_type": "code",
   "execution_count": null,
   "id": "f65dee54",
   "metadata": {},
   "outputs": [],
   "source": [
    "def addition(a, b):\n",
    "    answer = a + b\n",
    "    return answer\n",
    "\n",
    "\n",
    "x = input(\"Enter first number : \")\n",
    "y = input(\"Enter second number : \")\n",
    "sum = addition(x, y)\n",
    "print(sum)\n"
   ]
  },
  {
   "cell_type": "code",
   "execution_count": null,
   "id": "58ab5033",
   "metadata": {},
   "outputs": [],
   "source": [
    "\n",
    "Post-mortem debugging means entering debug mode after the program is finished with the execution process\n",
    "(failure has already occurred).  \n",
    "\n",
    "pdb supports post-mortem debugging through the pm() and post_mortem() functions. \n",
    "\n",
    "These functions look for active trace back and start the debugger at the line in the call stack where the exception occurred.\n",
    "\n",
    "In the output of the given example you can notice pdb appear when exception is encountered in the program.\n"
   ]
  },
  {
   "cell_type": "code",
   "execution_count": null,
   "id": "f390887c",
   "metadata": {},
   "outputs": [],
   "source": [
    "def multiply(a, b):\n",
    "    answer = a * b\n",
    "    return answer\n",
    "\n",
    "\n",
    "x = input(\"Enter first number : \")\n",
    "y = input(\"Enter second number : \")\n",
    "result = multiply(x, y)\n",
    "print(result)\n"
   ]
  },
  {
   "cell_type": "code",
   "execution_count": null,
   "id": "77703f49",
   "metadata": {},
   "outputs": [],
   "source": []
  }
 ],
 "metadata": {
  "kernelspec": {
   "display_name": "Python 3 (ipykernel)",
   "language": "python",
   "name": "python3"
  },
  "language_info": {
   "codemirror_mode": {
    "name": "ipython",
    "version": 3
   },
   "file_extension": ".py",
   "mimetype": "text/x-python",
   "name": "python",
   "nbconvert_exporter": "python",
   "pygments_lexer": "ipython3",
   "version": "3.9.7"
  }
 },
 "nbformat": 4,
 "nbformat_minor": 5
}
