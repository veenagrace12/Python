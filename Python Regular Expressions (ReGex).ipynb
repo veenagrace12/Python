{
 "cells": [
  {
   "cell_type": "code",
   "execution_count": null,
   "id": "f9c9a8e5",
   "metadata": {},
   "outputs": [],
   "source": [
    "import re"
   ]
  },
  {
   "cell_type": "markdown",
   "id": "939fc59f",
   "metadata": {},
   "source": [
    "# caret (^) matches at the beginning of a string"
   ]
  },
  {
   "cell_type": "code",
   "execution_count": 2,
   "id": "169eb24d",
   "metadata": {},
   "outputs": [
    {
     "name": "stdout",
     "output_type": "stream",
     "text": [
      "Emma\n"
     ]
    }
   ],
   "source": [
    "target_string = \"Emma is a Python developer \\n Emma also knows ML and AI\"\n",
    "result = re.search(r\"^\\w{4}\", target_string)\n",
    "print(result.group())"
   ]
  },
  {
   "cell_type": "code",
   "execution_count": 3,
   "id": "9773b361",
   "metadata": {},
   "outputs": [
    {
     "ename": "AttributeError",
     "evalue": "'NoneType' object has no attribute 'group'",
     "output_type": "error",
     "traceback": [
      "\u001b[1;31m---------------------------------------------------------------------------\u001b[0m",
      "\u001b[1;31mAttributeError\u001b[0m                            Traceback (most recent call last)",
      "\u001b[1;32mC:\\Users\\JOHNWE~1\\AppData\\Local\\Temp/ipykernel_4672/1081596457.py\u001b[0m in \u001b[0;36m<module>\u001b[1;34m\u001b[0m\n\u001b[0;32m      3\u001b[0m \u001b[1;31m# caret (^) matches at the beginning of a string\u001b[0m\u001b[1;33m\u001b[0m\u001b[1;33m\u001b[0m\u001b[0m\n\u001b[0;32m      4\u001b[0m \u001b[0mresult\u001b[0m \u001b[1;33m=\u001b[0m \u001b[0mre\u001b[0m\u001b[1;33m.\u001b[0m\u001b[0msearch\u001b[0m\u001b[1;33m(\u001b[0m\u001b[1;34mr\"^\\w{5}\"\u001b[0m\u001b[1;33m,\u001b[0m \u001b[0mtarget_string\u001b[0m\u001b[1;33m)\u001b[0m\u001b[1;33m\u001b[0m\u001b[1;33m\u001b[0m\u001b[0m\n\u001b[1;32m----> 5\u001b[1;33m \u001b[0mprint\u001b[0m\u001b[1;33m(\u001b[0m\u001b[0mresult\u001b[0m\u001b[1;33m.\u001b[0m\u001b[0mgroup\u001b[0m\u001b[1;33m(\u001b[0m\u001b[1;33m)\u001b[0m\u001b[1;33m)\u001b[0m\u001b[1;33m\u001b[0m\u001b[1;33m\u001b[0m\u001b[0m\n\u001b[0m",
      "\u001b[1;31mAttributeError\u001b[0m: 'NoneType' object has no attribute 'group'"
     ]
    }
   ],
   "source": [
    "target_string = \"Emma is a Python developer \\n Emma also knows ML and AI\"\n",
    "\n",
    "# caret (^) matches at the beginning of a string\n",
    "result = re.search(r\"^\\w{5}\", target_string)\n",
    "print(result.group())"
   ]
  },
  {
   "cell_type": "code",
   "execution_count": 4,
   "id": "9085187b",
   "metadata": {},
   "outputs": [
    {
     "name": "stdout",
     "output_type": "stream",
     "text": [
      "Jessygra\n"
     ]
    }
   ],
   "source": [
    "target_string = \"Jessygrace is a Python developer \\n Emma also knows ML and AI\"\n",
    "\n",
    "# caret (^) matches at the beginning of a string\n",
    "result = re.search(r\"^\\w{8}\", target_string)      \n",
    "print(result.group())"
   ]
  },
  {
   "cell_type": "code",
   "execution_count": 6,
   "id": "b5ca14f9",
   "metadata": {},
   "outputs": [
    {
     "name": "stdout",
     "output_type": "stream",
     "text": [
      "JessyGrace\n"
     ]
    }
   ],
   "source": [
    "target_string = \"JessyGrace is a Python developer \\n Emma also knows ML and AI\"\n",
    "\n",
    "# caret (^) matches at the beginning of a string\n",
    "result = re.search(r\"^\\w{10}\", target_string)      \n",
    "print(result.group())"
   ]
  },
  {
   "cell_type": "markdown",
   "id": "90ad7230",
   "metadata": {},
   "source": [
    "# dollar sign  to match at the end of the string"
   ]
  },
  {
   "cell_type": "code",
   "execution_count": 7,
   "id": "bf4e670d",
   "metadata": {},
   "outputs": [
    {
     "name": "stdout",
     "output_type": "stream",
     "text": [
      "AI\n"
     ]
    }
   ],
   "source": [
    "str1 = \"Emma is a Python developer \\nEmma also knows ML and AI\"\n",
    "result = re.search(r\"\\w{2}$\", str1)\n",
    "print(result.group())"
   ]
  },
  {
   "cell_type": "code",
   "execution_count": 9,
   "id": "afa5f569",
   "metadata": {},
   "outputs": [
    {
     "name": "stdout",
     "output_type": "stream",
     "text": [
      "nd\n"
     ]
    }
   ],
   "source": [
    "target_string = \"JessyGrace is a Python developer \\n she also knows ML and\"\n",
    "\n",
    "# caret (^) matches at the beginning of a string\n",
    "result = re.search(r\"\\w{2}$\", target_string)      \n",
    "print(result.group())"
   ]
  },
  {
   "cell_type": "markdown",
   "id": "3c9ef49a",
   "metadata": {},
   "source": [
    "# asterisk sign(*) to match 0 or more repetitions\n"
   ]
  },
  {
   "cell_type": "code",
   "execution_count": 10,
   "id": "268ee20d",
   "metadata": {},
   "outputs": [
    {
     "name": "stdout",
     "output_type": "stream",
     "text": [
      "['8', '2', '3', '8', '8', '6', '4', '5', '6', '7', '7', '8', '4', '5', '3']\n"
     ]
    }
   ],
   "source": [
    "str1 = \"Numbers are 8,23, 886, 4567, 78453\"\n",
    "result = re.findall(r\"\\d\", str1)\n",
    "print(result)"
   ]
  },
  {
   "cell_type": "code",
   "execution_count": 13,
   "id": "cfe3675a",
   "metadata": {},
   "outputs": [
    {
     "name": "stdout",
     "output_type": "stream",
     "text": [
      "['23', '88', '45', '67', '78', '45']\n"
     ]
    }
   ],
   "source": [
    "str1 = \"Numbers are 8,23, 886, 4567, 78453\"\n",
    "result = re.findall(r\"\\d\\d\", str1)\n",
    "print(result)"
   ]
  },
  {
   "cell_type": "code",
   "execution_count": 14,
   "id": "02148c4c",
   "metadata": {},
   "outputs": [
    {
     "name": "stdout",
     "output_type": "stream",
     "text": [
      "['886', '456', '784']\n"
     ]
    }
   ],
   "source": [
    "str1 = \"Numbers are 8,23, 886, 4567, 78453\"\n",
    "result = re.findall(r\"\\d\\d\\d\", str1)\n",
    "print(result)"
   ]
  },
  {
   "cell_type": "code",
   "execution_count": 15,
   "id": "4e67af68",
   "metadata": {},
   "outputs": [
    {
     "name": "stdout",
     "output_type": "stream",
     "text": [
      "['8', '23', '886', '4567', '78453']\n"
     ]
    }
   ],
   "source": [
    "str1 = \"Numbers are 8,23, 886, 4567, 78453\"\n",
    "result = re.findall(r\"\\d\\d*\", str1)\n",
    "print(result)"
   ]
  },
  {
   "cell_type": "code",
   "execution_count": 18,
   "id": "cef7063e",
   "metadata": {},
   "outputs": [
    {
     "name": "stdout",
     "output_type": "stream",
     "text": [
      "['23', '886', '4567', '78453']\n"
     ]
    }
   ],
   "source": [
    "str1 = \"Numbers are 8,23, 886, 4567, 78453\"\n",
    "result = re.findall(r\"\\d\\d\\d*\", str1)\n",
    "print(result)"
   ]
  },
  {
   "cell_type": "markdown",
   "id": "091e9195",
   "metadata": {},
   "source": [
    "# print specific characters in words"
   ]
  },
  {
   "cell_type": "code",
   "execution_count": 19,
   "id": "c982a3f6",
   "metadata": {},
   "outputs": [
    {
     "name": "stdout",
     "output_type": "stream",
     "text": [
      "['d', 'e', 'e', 'e', 'k', 'd']\n"
     ]
    }
   ],
   "source": [
    "str1 = \"Emma is a Python developer. Emma also knows ML and AI.\"\n",
    "res = re.findall(r\"[edk]\", str1)  # it only consider small letters edk\n",
    "print(res)"
   ]
  },
  {
   "cell_type": "code",
   "execution_count": 21,
   "id": "7479965c",
   "metadata": {},
   "outputs": [
    {
     "name": "stdout",
     "output_type": "stream",
     "text": [
      "['E', 'm', 'm', 'o', 'o', 'E', 'm', 'm', 'o', 'o', 'M']\n"
     ]
    }
   ],
   "source": [
    "str1 = \"Emma is a Python developer. Emma also knows ML and AI.\"\n",
    "res = re.findall(r\"[oEmM]\", str1)\n",
    "print(res)"
   ]
  },
  {
   "cell_type": "markdown",
   "id": "d0847dda",
   "metadata": {},
   "source": [
    "# Match object & Match value"
   ]
  },
  {
   "cell_type": "code",
   "execution_count": 24,
   "id": "67164cbe",
   "metadata": {},
   "outputs": [
    {
     "name": "stdout",
     "output_type": "stream",
     "text": [
      "Match object:  <re.Match object; span=(0, 3), match='Emm'>\n",
      "Match value:  Emm\n"
     ]
    }
   ],
   "source": [
    "target_string = \"Emma is a basketball player who was born on June 17\"\n",
    "result = re.match(r\"\\w{3}\", target_string) \n",
    "\n",
    "# printing the Match object\n",
    "print(\"Match object: \", result)\n",
    "\n",
    "\n",
    "# Extract match value\n",
    "print(\"Match value: \", result.group())"
   ]
  },
  {
   "cell_type": "markdown",
   "id": "06b222f9",
   "metadata": {},
   "source": [
    "# Split"
   ]
  },
  {
   "cell_type": "code",
   "execution_count": 38,
   "id": "100c7181",
   "metadata": {},
   "outputs": [
    {
     "name": "stdout",
     "output_type": "stream",
     "text": [
      "the value of s               : Welcome   to    Regex     Programming     using    Python\n",
      "Regex Split value of s        :['Welcome', '', '', 'to', '', '', '', 'Regex', '', '', '', '', 'Programming', '', '', '', '', 'using', '', '', '', 'Python']\n"
     ]
    }
   ],
   "source": [
    "s = \"Welcome   to    Regex     Programming     using    Python\"\n",
    "\n",
    "print(f'the value of s               : {s}')\n",
    "\n",
    "lstVal = re.split(r'\\s', s)\n",
    "                                                               #\\s only one space\n",
    "print(f'Regex Split value of s        :{lstVal}')\n",
    "\n"
   ]
  },
  {
   "cell_type": "code",
   "execution_count": 41,
   "id": "26914737",
   "metadata": {},
   "outputs": [
    {
     "name": "stdout",
     "output_type": "stream",
     "text": [
      "the value of s               : Welcome      to         Regex          Programming       using       Python\n",
      "Regex Split value of s        :['Welcome', 'to', 'Regex', 'Programming', 'using', 'Python']\n"
     ]
    }
   ],
   "source": [
    "s = \"Welcome      to         Regex          Programming       using       Python\"\n",
    "\n",
    "print(f'the value of s               : {s}')\n",
    "lstVal2 = re.split(r'\\s+', s)\n",
    "                                                              #\\s+ space one or more\n",
    "print(f'Regex Split value of s        :{lstVal2}')\n"
   ]
  },
  {
   "cell_type": "code",
   "execution_count": 42,
   "id": "7cc5ce0f",
   "metadata": {},
   "outputs": [
    {
     "name": "stdout",
     "output_type": "stream",
     "text": [
      "the value of s               : Welcome to   Regex    Programming   using   Python\n",
      "Regex Split value of s        :['W', 'l', 'om', ' to   R', '', '', 'x    Pro', 'r', 'mmin', '   usin', '   Pyt', 'on']\n"
     ]
    }
   ],
   "source": [
    "s = \"Welcome to   Regex    Programming   using   Python\"\n",
    "\n",
    "print(f'the value of s               : {s}')\n",
    "\n",
    "lstVal = re.split(r'[a-h]', s)\n",
    "                                                   #[a-h] - from a to h ( a,b,c,d,e,f,g,h) remove those and split remainig\n",
    "print(f'Regex Split value of s        :{lstVal}')"
   ]
  },
  {
   "cell_type": "code",
   "execution_count": 43,
   "id": "09a06b28",
   "metadata": {},
   "outputs": [
    {
     "name": "stdout",
     "output_type": "stream",
     "text": [
      "the value of s               : Welcome to   Regex    Programming   using   Python\n",
      "Regex Split value of s        :['W', '', '', 'o', '', ' to   R', 'g', 'x    Progr', '', '', 'i', 'g   usi', 'g   Pytho', '']\n"
     ]
    }
   ],
   "source": [
    "s = \"Welcome to   Regex    Programming   using   Python\"\n",
    "\n",
    "print(f'the value of s               : {s}')\n",
    "\n",
    "lstVal = re.split(r'[a-f,l-n]', s)\n",
    "                                                      #[a-f,l-n] - from a to f ( a,b,c,d,e,f,)  l to n (l,m,n)\n",
    "print(f'Regex Split value of s        :{lstVal}')"
   ]
  },
  {
   "cell_type": "markdown",
   "id": "e1a121f2",
   "metadata": {},
   "source": [
    "# Extract the numbers"
   ]
  },
  {
   "cell_type": "code",
   "execution_count": 54,
   "id": "fe4ae370",
   "metadata": {},
   "outputs": [],
   "source": [
    "address = \"78 Hi 11    89 Main, 4th Cro567ss, 123, Road, Marathalli, 5678 Bangalore, 560023 67893\""
   ]
  },
  {
   "cell_type": "code",
   "execution_count": 55,
   "id": "742cfb05",
   "metadata": {},
   "outputs": [
    {
     "name": "stdout",
     "output_type": "stream",
     "text": [
      "sorting the only nums from address ['78', '11', '89', '4', '567', '123', '5678', '560023', '67893']\n"
     ]
    }
   ],
   "source": [
    "add_nos = re.findall(r'\\d+', address)\n",
    "\n",
    "print(f'sorting the only nums from address {add_nos}')"
   ]
  },
  {
   "cell_type": "code",
   "execution_count": 60,
   "id": "0fc116c5",
   "metadata": {},
   "outputs": [
    {
     "name": "stdout",
     "output_type": "stream",
     "text": [
      "sorting the only nums from address ['560023']\n"
     ]
    }
   ],
   "source": [
    "## now i want no's with 6 digit only\n",
    "# REAL LIFE APPLICATION - EXTRACTING THE PIN CODES\n",
    "\n",
    "add_dig = re.findall(r'\\d{6}', address)\n",
    "\n",
    "print(f'sorting the only nums from address {add_dig}')"
   ]
  },
  {
   "cell_type": "code",
   "execution_count": 61,
   "id": "bf25c0f3",
   "metadata": {},
   "outputs": [
    {
     "name": "stdout",
     "output_type": "stream",
     "text": [
      "sorting the only nums from address ['78', '11', '89', '4', '567', '123', '567', '8', '560', '023', '678', '93']\n"
     ]
    }
   ],
   "source": [
    "## now i want no's with 1-3 digits only - numbers with single digit,double digits and tripe digits\n",
    "\n",
    "add_digs = re.findall(r'\\d{1,3}', address)\n",
    "\n",
    "print(f'sorting the only nums from address {add_digs}')"
   ]
  },
  {
   "cell_type": "code",
   "execution_count": 62,
   "id": "d4a36acb",
   "metadata": {},
   "outputs": [],
   "source": [
    "s = '''\n",
    "<html>\n",
    "<head>\n",
    "<title>Current IP Address Allocations\n",
    "</title>\n",
    "</head>\n",
    "<body>\n",
    "IP Address are 172.45.78.109\n",
    "LoopBack Address: 127.0.0.1\n",
    "Computer 1: 10.67.89.101\n",
    "Computer 2: 11.67.98.102\n",
    "Computer 3: 12.68.98.102\n",
    "</body>\n",
    "</html>\n",
    "'''"
   ]
  },
  {
   "cell_type": "code",
   "execution_count": 63,
   "id": "77700fc8",
   "metadata": {},
   "outputs": [
    {
     "name": "stdout",
     "output_type": "stream",
     "text": [
      "ip address are -: ['172.45.78.109', '127.0.0.1', '10.67.89.101', '11.67.98.102', '12.68.98.102']\n"
     ]
    }
   ],
   "source": [
    "ip_s=re.findall(r'\\d{1,3}.\\d{1,3}.\\d{1,3}.\\d{1,3}',s)\n",
    "\n",
    "print(f'ip address are -: {ip_s}')"
   ]
  },
  {
   "cell_type": "code",
   "execution_count": 71,
   "id": "7a992dac",
   "metadata": {},
   "outputs": [
    {
     "name": "stdout",
     "output_type": "stream",
     "text": [
      "ip address are -: ['172.45.78.109', '10.67.89.101', '11.67.98.102', '12.68.98.102']\n"
     ]
    }
   ],
   "source": [
    "ip_s=re.findall(r'\\d{1,3}.\\d{1,3}.\\d\\d{1,3}.\\d\\d{1,3}',s)\n",
    "\n",
    "print(f'ip address are -: {ip_s}')"
   ]
  },
  {
   "cell_type": "code",
   "execution_count": 77,
   "id": "b3ae001a",
   "metadata": {},
   "outputs": [
    {
     "name": "stdout",
     "output_type": "stream",
     "text": [
      "ip address are -: ['11.67.98.102', '12.68.98.102']\n"
     ]
    }
   ],
   "source": [
    "### starting 11  0r 12\n",
    "\n",
    "ip_s1=re.findall(r\"1[1-2]\\.\\d{1,3}\\.\\d{1,3}\\.\\d{1,3}\", s)\n",
    "print(f'ip address are -: {ip_s1}')"
   ]
  },
  {
   "cell_type": "code",
   "execution_count": 80,
   "id": "7fcebf7b",
   "metadata": {},
   "outputs": [
    {
     "name": "stdout",
     "output_type": "stream",
     "text": [
      "ip address are -: ['11.67.98.102', '12.68.98.102']\n"
     ]
    }
   ],
   "source": [
    "### 11  0r 12\n",
    "\n",
    "ip_s1=re.findall(r\"1[1-2]\\.\\d{1,3}\\.\\d{1,3}\\.\\d{1,3}\", s)\n",
    "print(f'ip address are -: {ip_s1}')"
   ]
  },
  {
   "cell_type": "code",
   "execution_count": 81,
   "id": "21d4a2ed",
   "metadata": {},
   "outputs": [
    {
     "name": "stdout",
     "output_type": "stream",
     "text": [
      "ip address are -: ['11.67.98.102', '12.68.98.102']\n"
     ]
    }
   ],
   "source": [
    "### 11  0r 12\n",
    "\n",
    "ip_s1=re.findall(r\"1[12]\\.\\d{1,3}\\.\\d{1,3}\\.\\d{1,3}\", s)\n",
    "print(f'ip address are -: {ip_s1}')"
   ]
  },
  {
   "cell_type": "code",
   "execution_count": 84,
   "id": "cafd4612",
   "metadata": {},
   "outputs": [
    {
     "name": "stdout",
     "output_type": "stream",
     "text": [
      "ip address are -: ['10.67.89.101']\n"
     ]
    }
   ],
   "source": [
    "### only 10\n",
    "\n",
    "ip_s1=re.findall(r\"10\\.\\d{1,3}\\.\\d{1,3}\\.\\d{1,3}\", s)\n",
    "print(f'ip address are -: {ip_s1}')"
   ]
  },
  {
   "cell_type": "code",
   "execution_count": 89,
   "id": "944d3716",
   "metadata": {},
   "outputs": [
    {
     "name": "stdout",
     "output_type": "stream",
     "text": [
      "Find all matches for format Month day\n",
      "gives Month Date format - ['June 24', 'August 9', 'Dec 12']\n",
      "gives Date format - ['24', '9', '12']\n",
      "gives tuple of Month & Date format - [('June', '24'), ('August', '9'), ('Dec', '12')]\n"
     ]
    }
   ],
   "source": [
    "print(\"Find all matches for format Month day\")\n",
    "\n",
    "matches = re.findall(r\"[A-Z][a-z]+\\s\\d{1,2}\", \"These are the match dates June 24, August 9, Dec 12\")\n",
    "print(f'gives Month Date format - {matches}')\n",
    "\n",
    "matches = re.findall(r\"[A-Z][a-z]+\\s(\\d{1,2})\", \"These are the match dates June 24, August 9, Dec 12\")\n",
    "print(f'gives Date format - {matches}')\n",
    "\n",
    "matches = re.findall(r\"([A-Z][a-z]+)\\s(\\d{1,2})\", \"These are the match dates June 24, August 9, Dec 12\")\n",
    "print(f'gives tuple of Month & Date format - {matches}')"
   ]
  },
  {
   "cell_type": "code",
   "execution_count": 90,
   "id": "aba9826c",
   "metadata": {},
   "outputs": [
    {
     "name": "stdout",
     "output_type": "stream",
     "text": [
      "['', '', '', '', '', '', '', '', '', '', '', '', '', '', '', '', '', '', '', '', '', '', '', '', '', '', '', '', '', '', '', '', '', '', '', '', '', '', '', '', '', '', '', '', '', '', '', '', '', '', '', '', '', '', '', '', '', '', '', '', '', '', '', '', '', '', '', '', '', '', '', '', '', '', '', '', '', '', '', '', '', '', '', '', '', '', '', '', '', '', '', '', '', '', '', '', '', '', '', '']\n"
     ]
    }
   ],
   "source": [
    "s = \"purple alice@google.com abcde helloab@abc.com ---@gmail.com 23@gmail.com my23@gmail.com _@gmail.com\"\n",
    "\n",
    "emails = re.findall(r\"\", s)\n",
    "print(emails)"
   ]
  },
  {
   "cell_type": "code",
   "execution_count": 91,
   "id": "99aef2aa",
   "metadata": {},
   "outputs": [
    {
     "name": "stdout",
     "output_type": "stream",
     "text": [
      "['alice@google.com', 'helloab@abc.com', '23@gmail.com', 'my23@gmail.com', '_@gmail.com', 'veenavi2324@gmail.com']\n"
     ]
    }
   ],
   "source": [
    "s = \"purple alice@google.com abcde helloab@abc.com ---@gmail.com 23@gmail.com my23@gmail.com _@gmail.com veenavi2324@gmail.com\"\n",
    "\n",
    "emails = re.findall(r\"\\w+@\\w+\\.\\w+\", s)\n",
    "print(emails)"
   ]
  },
  {
   "cell_type": "code",
   "execution_count": 92,
   "id": "fca4307d",
   "metadata": {},
   "outputs": [
    {
     "name": "stdout",
     "output_type": "stream",
     "text": [
      "starts with alphabets only ['alice@google.com', 'helloab@abc.com']\n"
     ]
    }
   ],
   "source": [
    "s = \"purple alice@google.com abcde helloab@abc.com ---@gmail.com 23@gmail.com my23@gmail.com _@gmail.com veenavi2324@gmail.com\"\n",
    "\n",
    "emails = re.findall(r\"[A-Za-z]+@\\w+\\.\\w+\", s)\n",
    "print(f'starts with alphabets only {emails}')"
   ]
  },
  {
   "cell_type": "code",
   "execution_count": 93,
   "id": "51d9ab10",
   "metadata": {},
   "outputs": [
    {
     "name": "stdout",
     "output_type": "stream",
     "text": [
      "starts with digits only ['23@gmail.com', '23@gmail.com', '2324@gmail.com']\n"
     ]
    }
   ],
   "source": [
    "s = \"purple alice@google.com abcde helloab@abc.com ---@gmail.com 23@gmail.com my23@gmail.com _@gmail.com veenavi2324@gmail.com\"\n",
    "\n",
    "emails = re.findall(r\"\\d+@\\w+\\.\\w+\", s)\n",
    "print(f'starts with digits only {emails}')            # word present in before and after the digits deleted"
   ]
  },
  {
   "cell_type": "code",
   "execution_count": 94,
   "id": "eab0ba7b",
   "metadata": {},
   "outputs": [
    {
     "name": "stdout",
     "output_type": "stream",
     "text": [
      "starts with digits only ['alice@google.com', 'helloab@abc.com', '23@gmail.com', 'my23@gmail.com', 'veenavi2324@gmail.com']\n"
     ]
    }
   ],
   "source": [
    "s = \"purple alice@google.com abcde helloab@abc.com ---@gmail.com 23@gmail.com my23@gmail.com _@gmail.com veenavi2324@gmail.com\"\n",
    "\n",
    "emails = re.findall(r\"[A-Za-z0-9]+@\\w+\\.\\w+\", s)\n",
    "print(f'starts with alphabets or digits  {emails}') "
   ]
  },
  {
   "cell_type": "markdown",
   "id": "80c6c963",
   "metadata": {},
   "source": [
    "# Different functions in ReGex "
   ]
  },
  {
   "cell_type": "markdown",
   "id": "b2d44296",
   "metadata": {},
   "source": [
    "## 1.findall-returns lists of all matches"
   ]
  },
  {
   "cell_type": "code",
   "execution_count": 2,
   "id": "542977d5",
   "metadata": {},
   "outputs": [],
   "source": [
    "import re"
   ]
  },
  {
   "cell_type": "code",
   "execution_count": 4,
   "id": "f66976b6",
   "metadata": {},
   "outputs": [
    {
     "data": {
      "text/plain": [
       "['i', 'i', 'i', 'i', 'i', 'i']"
      ]
     },
     "execution_count": 4,
     "metadata": {},
     "output_type": "execute_result"
    }
   ],
   "source": [
    "at = 'Rome was not built in a day – difficult tasks always take time to accomplish.'\n",
    "\n",
    "rslt = re.findall('i',at)\n",
    "rslt"
   ]
  },
  {
   "cell_type": "code",
   "execution_count": 5,
   "id": "9ca40db9",
   "metadata": {},
   "outputs": [
    {
     "data": {
      "text/plain": [
       "[]"
      ]
     },
     "execution_count": 5,
     "metadata": {},
     "output_type": "execute_result"
    }
   ],
   "source": [
    "# empty list if pattern is not present\n",
    "\n",
    "rslt1 = re.findall('xyz',at)\n",
    "rslt1"
   ]
  },
  {
   "cell_type": "code",
   "execution_count": 6,
   "id": "5b38ed14",
   "metadata": {},
   "outputs": [
    {
     "data": {
      "text/plain": [
       "['be', 'be']"
      ]
     },
     "execution_count": 6,
     "metadata": {},
     "output_type": "execute_result"
    }
   ],
   "source": [
    "st = 'In a world where you can be anything, be kind'\n",
    "\n",
    "rslt2 = re.findall('be',st)\n",
    "rslt2"
   ]
  },
  {
   "cell_type": "code",
   "execution_count": 7,
   "id": "41bc180c",
   "metadata": {},
   "outputs": [
    {
     "data": {
      "text/plain": [
       "['e', 'e', 'b', 'e', 'b', 'e']"
      ]
     },
     "execution_count": 7,
     "metadata": {},
     "output_type": "execute_result"
    }
   ],
   "source": [
    "# either b or e\n",
    "\n",
    "rslt2 = re.findall('[be]',st)\n",
    "rslt2"
   ]
  },
  {
   "cell_type": "code",
   "execution_count": 9,
   "id": "b7d14cfa",
   "metadata": {},
   "outputs": [
    {
     "data": {
      "text/plain": [
       "['world wher']"
      ]
     },
     "execution_count": 9,
     "metadata": {},
     "output_type": "execute_result"
    }
   ],
   "source": [
    "rslt5 = re.findall('wo........',st)\n",
    "rslt5"
   ]
  },
  {
   "cell_type": "code",
   "execution_count": 10,
   "id": "7aa4cf64",
   "metadata": {},
   "outputs": [
    {
     "data": {
      "text/plain": [
       "['world']"
      ]
     },
     "execution_count": 10,
     "metadata": {},
     "output_type": "execute_result"
    }
   ],
   "source": [
    "# 3rd element should be rld\n",
    "\n",
    "rslt6 = re.findall('..rld',st)\n",
    "rslt6"
   ]
  },
  {
   "cell_type": "code",
   "execution_count": 13,
   "id": "28c5f217",
   "metadata": {},
   "outputs": [
    {
     "name": "stdout",
     "output_type": "stream",
     "text": [
      "['', '', '', '', '', 'w', '', '', '', '', '', 'w', '', '', '', '', '', '', '', '', '', '', '', '', '', '', '', '', '', '', '', '', '', '', '', '', '', '', '', '', '', '', '', '', '', '']\n"
     ]
    }
   ],
   "source": [
    "# zero or more occurance of w - if not returns null string\n",
    "\n",
    "rslt6 = re.findall('w*',st)\n",
    "print(rslt6)"
   ]
  },
  {
   "cell_type": "code",
   "execution_count": 18,
   "id": "de388133",
   "metadata": {},
   "outputs": [
    {
     "name": "stdout",
     "output_type": "stream",
     "text": [
      "['e', 'ee', 'e', 'ee']\n"
     ]
    }
   ],
   "source": [
    "#occurance of e followed by (zero or more occurance of 2nd e - if not returns null string)\n",
    "\n",
    "new_st = 'Friend in need is friend in deed'\n",
    "\n",
    "nr1 = re.findall('ee*',new_st)\n",
    "print(nr1)"
   ]
  },
  {
   "cell_type": "code",
   "execution_count": 22,
   "id": "595fe7e3",
   "metadata": {},
   "outputs": [
    {
     "name": "stdout",
     "output_type": "stream",
     "text": [
      "['ee', 'ee']\n"
     ]
    }
   ],
   "source": [
    "#occurance of e followed by (one or more occurance of 2nd e - if not returns null string)\n",
    "\n",
    "new_st = 'Friend in need is friend in deed'\n",
    "\n",
    "nr2 = re.findall('ee+',new_st)\n",
    "print(nr2)"
   ]
  },
  {
   "cell_type": "code",
   "execution_count": 23,
   "id": "5304d605",
   "metadata": {},
   "outputs": [
    {
     "data": {
      "text/plain": [
       "['ee', 'ee']"
      ]
     },
     "execution_count": 23,
     "metadata": {},
     "output_type": "execute_result"
    }
   ],
   "source": [
    "# exact occurances - {}\n",
    "\n",
    "nr3 = re.findall('e{2}',new_st)\n",
    "nr3"
   ]
  },
  {
   "cell_type": "code",
   "execution_count": 24,
   "id": "80798c0c",
   "metadata": {},
   "outputs": [
    {
     "data": {
      "text/plain": [
       "[]"
      ]
     },
     "execution_count": 24,
     "metadata": {},
     "output_type": "execute_result"
    }
   ],
   "source": [
    "# exact occurances - {}\n",
    "\n",
    "nr3 = re.findall('e{3}',new_st)\n",
    "nr3"
   ]
  },
  {
   "cell_type": "code",
   "execution_count": 25,
   "id": "88db5cec",
   "metadata": {},
   "outputs": [
    {
     "data": {
      "text/plain": [
       "[' ', ' ', ' ', ' ', ' ', ' ']"
      ]
     },
     "execution_count": 25,
     "metadata": {},
     "output_type": "execute_result"
    }
   ],
   "source": [
    "# findall - spaces \\s\n",
    "\n",
    "nr4 = re.findall('\\s',new_st)\n",
    "nr4"
   ]
  },
  {
   "cell_type": "code",
   "execution_count": 26,
   "id": "0e8a643c",
   "metadata": {},
   "outputs": [
    {
     "name": "stdout",
     "output_type": "stream",
     "text": [
      "['F', 'r', 'i', 'e', 'n', 'd', 'i', 'n', 'n', 'e', 'e', 'd', 'i', 's', 'f', 'r', 'i', 'e', 'n', 'd', 'i', 'n', 'd', 'e', 'e', 'd']\n"
     ]
    }
   ],
   "source": [
    "# findall - except spaces \\S\n",
    "\n",
    "nr5 = re.findall('\\S',new_st)\n",
    "print(nr5)"
   ]
  },
  {
   "cell_type": "code",
   "execution_count": 27,
   "id": "83f13333",
   "metadata": {},
   "outputs": [
    {
     "name": "stdout",
     "output_type": "stream",
     "text": [
      "['2', '3', '4', '5', '3', '2', '1', '4']\n"
     ]
    }
   ],
   "source": [
    "# findall - digit \\d\n",
    "\n",
    "new_st2 = 'Friend in need is 23 friend in 453214 deed'\n",
    "nr6 = re.findall('\\d',new_st2)\n",
    "print(nr6)"
   ]
  },
  {
   "cell_type": "code",
   "execution_count": 28,
   "id": "f423b98b",
   "metadata": {},
   "outputs": [
    {
     "name": "stdout",
     "output_type": "stream",
     "text": [
      "['23', '453214']\n"
     ]
    }
   ],
   "source": [
    "# findall - digit 0ne or more\n",
    "\n",
    "new_st2 = 'Friend in need is 23 friend in 453214 deed'\n",
    "nr6 = re.findall('\\d+',new_st2)\n",
    "print(nr6)"
   ]
  },
  {
   "cell_type": "code",
   "execution_count": 29,
   "id": "7e3c2af2",
   "metadata": {},
   "outputs": [
    {
     "name": "stdout",
     "output_type": "stream",
     "text": [
      "['F', 'r', 'i', 'e', 'n', 'd', ' ', 'i', 'n', ' ', 'n', 'e', 'e', 'd', ' ', 'i', 's', ' ', ' ', 'f', 'r', 'i', 'e', 'n', 'd', ' ', 'i', 'n', ' ', ' ', 'd', 'e', 'e', 'd']\n"
     ]
    }
   ],
   "source": [
    "# findall - except digit \\D\n",
    "\n",
    "new_st2 = 'Friend in need is 23 friend in 453214 deed'\n",
    "nr6 = re.findall('\\D',new_st2)\n",
    "print(nr6)"
   ]
  },
  {
   "cell_type": "code",
   "execution_count": 30,
   "id": "54bdeb81",
   "metadata": {},
   "outputs": [
    {
     "name": "stdout",
     "output_type": "stream",
     "text": [
      "['F', 'r', 'i', 'e', 'n', 'd', 'i', 'n', 'n', 'e', 'e', 'd', 'i', 's', '2', '3', 'f', 'r', 'i', 'e', 'n', 'd', 'i', 'n', '4', '5', '3', '2', '1', '4', 'd', 'e', 'e', 'd']\n"
     ]
    }
   ],
   "source": [
    "# findall - words ( removes spaces) \\w\n",
    "\n",
    "new_st2 = 'Friend in need is 23 friend in 453214 deed'\n",
    "nr6 = re.findall('\\w',new_st2)\n",
    "print(nr6)"
   ]
  },
  {
   "cell_type": "code",
   "execution_count": 31,
   "id": "b7e09865",
   "metadata": {},
   "outputs": [
    {
     "name": "stdout",
     "output_type": "stream",
     "text": [
      "[' ', ' ', ' ', ' ', ' ', ' ', ' ', ' ']\n"
     ]
    }
   ],
   "source": [
    "# findall - except alphanumeric \\W\n",
    "\n",
    "new_st2 = 'Friend in need is 23 friend in 453214 deed'\n",
    "nr6 = re.findall('\\W',new_st2)\n",
    "print(nr6)"
   ]
  },
  {
   "cell_type": "code",
   "execution_count": 32,
   "id": "4a3ecad4",
   "metadata": {},
   "outputs": [
    {
     "name": "stdout",
     "output_type": "stream",
     "text": [
      "['2', '3', '3', '2']\n"
     ]
    }
   ],
   "source": [
    "# findall - sets - [23] one digit\n",
    "\n",
    "new_st2 = 'Friend in need is 23 friend in 453214 deed'\n",
    "nr6 = re.findall('[23]',new_st2) # 2,3\n",
    "print(nr6)"
   ]
  },
  {
   "cell_type": "code",
   "execution_count": 33,
   "id": "b0183c39",
   "metadata": {},
   "outputs": [
    {
     "name": "stdout",
     "output_type": "stream",
     "text": [
      "[]\n"
     ]
    }
   ],
   "source": [
    "# findall - sets - [23][45] - 2 digit\n",
    "\n",
    "new_st2 = 'Friend in need is 23 friend in 453214 deed'\n",
    "nr6 = re.findall(r'[23][45]',new_st2)\n",
    "print(nr6)"
   ]
  },
  {
   "cell_type": "code",
   "execution_count": 34,
   "id": "6f98d302",
   "metadata": {},
   "outputs": [
    {
     "name": "stdout",
     "output_type": "stream",
     "text": [
      "['3', '4', '5', '3', '4']\n"
     ]
    }
   ],
   "source": [
    "# findall - sets\n",
    "\n",
    "new_st2 = 'Friend in need is 23 friend in 453214 deed'\n",
    "nr6 = re.findall('[3-9]',new_st2)\n",
    "print(nr6)"
   ]
  },
  {
   "cell_type": "markdown",
   "id": "370e73d6",
   "metadata": {},
   "source": [
    "## search"
   ]
  },
  {
   "cell_type": "code",
   "execution_count": 37,
   "id": "bc003979",
   "metadata": {},
   "outputs": [
    {
     "name": "stdout",
     "output_type": "stream",
     "text": [
      "type is object <re.Match object; span=(21, 24), match='can'>\n"
     ]
    }
   ],
   "source": [
    "st = 'In a world where you can be anything, be kind'\n",
    "\n",
    "match_object = re.search('can',st)\n",
    "print(f'type is object {match_object}')"
   ]
  },
  {
   "cell_type": "code",
   "execution_count": 38,
   "id": "51f44ef8",
   "metadata": {},
   "outputs": [
    {
     "name": "stdout",
     "output_type": "stream",
     "text": [
      "type is object <re.Match object; span=(25, 27), match='be'>\n"
     ]
    }
   ],
   "source": [
    "match_object1 = re.search('be',st)      # it will consider first be\n",
    "print(f'type is object {match_object1}')"
   ]
  },
  {
   "cell_type": "code",
   "execution_count": 39,
   "id": "fa72f076",
   "metadata": {},
   "outputs": [
    {
     "data": {
      "text/plain": [
       "21"
      ]
     },
     "execution_count": 39,
     "metadata": {},
     "output_type": "execute_result"
    }
   ],
   "source": [
    "match_object.start()     # can"
   ]
  },
  {
   "cell_type": "code",
   "execution_count": 40,
   "id": "60f295d4",
   "metadata": {},
   "outputs": [
    {
     "data": {
      "text/plain": [
       "25"
      ]
     },
     "execution_count": 40,
     "metadata": {},
     "output_type": "execute_result"
    }
   ],
   "source": [
    "match_object1.start()    # be"
   ]
  },
  {
   "cell_type": "code",
   "execution_count": 41,
   "id": "89dfa824",
   "metadata": {},
   "outputs": [
    {
     "data": {
      "text/plain": [
       "(21, 24)"
      ]
     },
     "execution_count": 41,
     "metadata": {},
     "output_type": "execute_result"
    }
   ],
   "source": [
    "match_object.span()      # can c-21"
   ]
  },
  {
   "cell_type": "code",
   "execution_count": 42,
   "id": "814e5e94",
   "metadata": {},
   "outputs": [
    {
     "data": {
      "text/plain": [
       "(25, 27)"
      ]
     },
     "execution_count": 42,
     "metadata": {},
     "output_type": "execute_result"
    }
   ],
   "source": [
    "match_object1.span()     # be b-25"
   ]
  },
  {
   "cell_type": "code",
   "execution_count": 44,
   "id": "a4742f32",
   "metadata": {},
   "outputs": [
    {
     "data": {
      "text/plain": [
       "<re.Match object; span=(31, 37), match='latest'>"
      ]
     },
     "execution_count": 44,
     "metadata": {},
     "output_type": "execute_result"
    }
   ],
   "source": [
    "source_str  = 'we need to inform him with the latest information'\n",
    "\n",
    "info = re.search('latest', source_str)\n",
    "info"
   ]
  },
  {
   "cell_type": "code",
   "execution_count": 47,
   "id": "98a89a59",
   "metadata": {},
   "outputs": [
    {
     "name": "stdout",
     "output_type": "stream",
     "text": [
      "inform is there\n"
     ]
    }
   ],
   "source": [
    "if re.search('inform', source_str):\n",
    "    print('inform is there')"
   ]
  },
  {
   "cell_type": "code",
   "execution_count": 48,
   "id": "057f0093",
   "metadata": {},
   "outputs": [
    {
     "name": "stdout",
     "output_type": "stream",
     "text": [
      "here is \\kane\n"
     ]
    },
    {
     "data": {
      "text/plain": [
       "<re.Match object; span=(8, 13), match='\\\\kane'>"
      ]
     },
     "execution_count": 48,
     "metadata": {},
     "output_type": "execute_result"
    }
   ],
   "source": [
    "randomstr = 'here is \\\\kane'\n",
    "\n",
    "print(randomstr)\n",
    "\n",
    "re.search(r'\\\\kane',randomstr)"
   ]
  },
  {
   "cell_type": "markdown",
   "id": "a9b33c0e",
   "metadata": {},
   "source": [
    "## split"
   ]
  },
  {
   "cell_type": "code",
   "execution_count": 49,
   "id": "6033e8fc",
   "metadata": {},
   "outputs": [
    {
     "data": {
      "text/plain": [
       "['In', 'a', 'world', 'where', 'you', 'can', 'be', 'anything,', 'be', 'kind']"
      ]
     },
     "execution_count": 49,
     "metadata": {},
     "output_type": "execute_result"
    }
   ],
   "source": [
    "r = re.split(' ',st)\n",
    "r"
   ]
  },
  {
   "cell_type": "code",
   "execution_count": 50,
   "id": "6a5546c2",
   "metadata": {},
   "outputs": [
    {
     "data": {
      "text/plain": [
       "['In a world wh', 'r', ' you can b', ' anything, b', ' kind']"
      ]
     },
     "execution_count": 50,
     "metadata": {},
     "output_type": "execute_result"
    }
   ],
   "source": [
    "r1 = re.split('e',st)     # e will be removed\n",
    "r1"
   ]
  },
  {
   "cell_type": "code",
   "execution_count": 51,
   "id": "80f61ae9",
   "metadata": {},
   "outputs": [
    {
     "data": {
      "text/plain": [
       "['In a world wh', 'r', ' you can be anything, be kind']"
      ]
     },
     "execution_count": 51,
     "metadata": {},
     "output_type": "execute_result"
    }
   ],
   "source": [
    "# max split\n",
    "\n",
    "r12 = re.split('e',st,2)\n",
    "r12 "
   ]
  },
  {
   "cell_type": "markdown",
   "id": "03b8be7f",
   "metadata": {},
   "source": [
    "## sub- sustitute\n",
    "\n",
    "* sub('old pattern','new pattern',source_str)"
   ]
  },
  {
   "cell_type": "code",
   "execution_count": 52,
   "id": "1c6db2a1",
   "metadata": {},
   "outputs": [
    {
     "data": {
      "text/plain": [
       "'In a world whErE you can bE anything, bE kind'"
      ]
     },
     "execution_count": 52,
     "metadata": {},
     "output_type": "execute_result"
    }
   ],
   "source": [
    "sb = re.sub('e','E',st)\n",
    "sb"
   ]
  },
  {
   "cell_type": "code",
   "execution_count": 53,
   "id": "b2265915",
   "metadata": {},
   "outputs": [
    {
     "data": {
      "text/plain": [
       "'In a world whErE you can be anything, be kind'"
      ]
     },
     "execution_count": 53,
     "metadata": {},
     "output_type": "execute_result"
    }
   ],
   "source": [
    "# max no of occurances to be substituted\n",
    "\n",
    "sb1 = re.sub('e','E',st,2)\n",
    "sb1"
   ]
  },
  {
   "cell_type": "markdown",
   "id": "efb5a5cb",
   "metadata": {},
   "source": [
    "## compile"
   ]
  },
  {
   "cell_type": "code",
   "execution_count": 54,
   "id": "e2067a14",
   "metadata": {},
   "outputs": [
    {
     "data": {
      "text/plain": [
       "re.compile(r'[r]at', re.UNICODE)"
      ]
     },
     "execution_count": 54,
     "metadata": {},
     "output_type": "execute_result"
    }
   ],
   "source": [
    "a = 'hat mat rat pat '\n",
    "\n",
    "reg = re.compile('[r]at')\n",
    "reg"
   ]
  },
  {
   "cell_type": "code",
   "execution_count": 55,
   "id": "e72c1cb4",
   "metadata": {},
   "outputs": [
    {
     "data": {
      "text/plain": [
       "'hat mat FOOD pat '"
      ]
     },
     "execution_count": 55,
     "metadata": {},
     "output_type": "execute_result"
    }
   ],
   "source": [
    "rplce = reg.sub('FOOD',a)\n",
    "rplce"
   ]
  },
  {
   "cell_type": "code",
   "execution_count": 56,
   "id": "73a9cb38",
   "metadata": {},
   "outputs": [
    {
     "data": {
      "text/plain": [
       "'hat mat FOOD pat '"
      ]
     },
     "execution_count": 56,
     "metadata": {},
     "output_type": "execute_result"
    }
   ],
   "source": [
    "#replacing \n",
    "\n",
    "rplc = re.sub('rat','FOOD',a)\n",
    "rplc"
   ]
  },
  {
   "cell_type": "markdown",
   "id": "671593ca",
   "metadata": {},
   "source": [
    "## working with white spaces"
   ]
  },
  {
   "cell_type": "code",
   "execution_count": 57,
   "id": "aaf8f0ca",
   "metadata": {},
   "outputs": [
    {
     "data": {
      "text/plain": [
       "'keep the blue flag\\nflying high\\nchelsa\\n'"
      ]
     },
     "execution_count": 57,
     "metadata": {},
     "output_type": "execute_result"
    }
   ],
   "source": [
    "chelsea = '''keep the blue flag\n",
    "flying high\n",
    "chelsa\n",
    "'''\n",
    "chelsea"
   ]
  },
  {
   "cell_type": "code",
   "execution_count": 58,
   "id": "bfc422df",
   "metadata": {},
   "outputs": [
    {
     "data": {
      "text/plain": [
       "'keep the blue flag flying high chelsa '"
      ]
     },
     "execution_count": 58,
     "metadata": {},
     "output_type": "execute_result"
    }
   ],
   "source": [
    "new_str = re.sub('\\n',' ',chelsea)\n",
    "new_str"
   ]
  },
  {
   "cell_type": "code",
   "execution_count": 59,
   "id": "82f81b1c",
   "metadata": {},
   "outputs": [
    {
     "data": {
      "text/plain": [
       "'keep the blue flag flying high chelsa '"
      ]
     },
     "execution_count": 59,
     "metadata": {},
     "output_type": "execute_result"
    }
   ],
   "source": [
    "# other method using compile\n",
    "\n",
    "comp = re.compile('\\n')\n",
    "\n",
    "new =comp.sub(' ',chelsea)\n",
    "new"
   ]
  },
  {
   "cell_type": "raw",
   "id": "995ff3ee",
   "metadata": {},
   "source": [
    "* \\b : backspace\n",
    "* \\f : formfeed\n",
    "* \\r: carriage return\n",
    "* \\t: tab\n",
    "* \\v:vertical\n"
   ]
  },
  {
   "cell_type": "code",
   "execution_count": 60,
   "id": "3f0e8fe8",
   "metadata": {},
   "outputs": [
    {
     "data": {
      "text/plain": [
       "['444-122-1234', '123-122-7899']"
      ]
     },
     "execution_count": 60,
     "metadata": {},
     "output_type": "execute_result"
    }
   ],
   "source": [
    "phone_no = ''' \n",
    "444-122-1234\n",
    "123-122-78999\n",
    "111-123-23\n",
    "67-7890-2019\n",
    "'''\n",
    "# 3 digit @ start & middle, end -4 digit\n",
    "\n",
    "reg = re.findall(r'\\d{3}\\-\\d{3}\\-\\d{4}',phone_no)\n",
    "reg"
   ]
  },
  {
   "cell_type": "code",
   "execution_count": 64,
   "id": "c12f8928",
   "metadata": {},
   "outputs": [
    {
     "name": "stdout",
     "output_type": "stream",
     "text": [
      "<re.Match object; span=(0, 6), match='Jesssy'>\n",
      "Jesssy\n",
      "['Jesssy', 'Python', 'pandas']\n"
     ]
    }
   ],
   "source": [
    "import re\n",
    "\n",
    "target_string = \"Jesssy loves Python and pandas\"\n",
    "# Match six-letter word\n",
    "pattern = r\"\\w{6}\"\n",
    "\n",
    "# match() method\n",
    "result = re.match(pattern, target_string)      # 1st 6 letter word match with span\n",
    "print(result)\n",
    "\n",
    "\n",
    "# search() method\n",
    "result = re.search(pattern, target_string)    # print 1st 6 letter word\n",
    "print(result.group()) \n",
    "\n",
    "\n",
    "# findall() method\n",
    "result = re.findall(pattern, target_string)   # print all 6letter words\n",
    "print(result) \n"
   ]
  },
  {
   "cell_type": "code",
   "execution_count": null,
   "id": "4ce4db85",
   "metadata": {},
   "outputs": [],
   "source": []
  }
 ],
 "metadata": {
  "kernelspec": {
   "display_name": "Python 3 (ipykernel)",
   "language": "python",
   "name": "python3"
  },
  "language_info": {
   "codemirror_mode": {
    "name": "ipython",
    "version": 3
   },
   "file_extension": ".py",
   "mimetype": "text/x-python",
   "name": "python",
   "nbconvert_exporter": "python",
   "pygments_lexer": "ipython3",
   "version": "3.9.7"
  }
 },
 "nbformat": 4,
 "nbformat_minor": 5
}
