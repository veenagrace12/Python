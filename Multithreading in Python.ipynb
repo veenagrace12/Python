{
 "cells": [
  {
   "cell_type": "markdown",
   "id": "36e215dc",
   "metadata": {},
   "source": [
    "# Multithreading in Python"
   ]
  },
  {
   "cell_type": "code",
   "execution_count": null,
   "id": "9b45c6b2",
   "metadata": {},
   "outputs": [],
   "source": [
    "In computing, a process is an instance of a computer program that is being executed. Any process has 3 basic components:\n",
    "\n",
    "An executable program.\n",
    "\n",
    "The associated data needed by the program (variables, work space, buffers, etc.)\n",
    "\n",
    "The execution context of the program (State of process)"
   ]
  },
  {
   "cell_type": "code",
   "execution_count": null,
   "id": "c6726b0a",
   "metadata": {},
   "outputs": [],
   "source": [
    "A thread is an entity within a process that can be scheduled for execution. Also, \n",
    "it is the smallest unit of processing that can be performed in an OS (Operating System).\n",
    "\n",
    "In simple words, a thread is a sequence of such instructions within a program \n",
    "that can be executed independently of other code. \n",
    "\n",
    "For simplicity, you can assume that a thread is simply a subset of a process!"
   ]
  },
  {
   "cell_type": "code",
   "execution_count": null,
   "id": "59ab8837",
   "metadata": {},
   "outputs": [],
   "source": [
    "A thread contains all this information in a Thread Control Block (TCB):\n",
    "\n",
    "Thread Identifier: Unique id (TID) is assigned to every new thread\n",
    "\n",
    "Stack pointer: Points to thread’s stack in the process. Stack contains the local variables under thread’s scope.\n",
    "    \n",
    "Program counter: a register which stores the address of the instruction currently being executed by thread.\n",
    "    \n",
    "Thread state: can be running, ready, waiting, start or done.\n",
    "    \n",
    "Thread’s register set: registers assigned to thread for computations.\n",
    "    \n",
    "Parent process Pointer: A pointer to the Process control block (PCB) of the process that the thread lives on.\n",
    "    "
   ]
  },
  {
   "cell_type": "code",
   "execution_count": null,
   "id": "c2ae0776",
   "metadata": {},
   "outputs": [],
   "source": [
    "Multiple threads can exist within one process where:\n",
    "\n",
    "Each thread contains its own register set and local variables (stored in stack).\n",
    "\n",
    "All thread of a process share global variables (stored in heap) and the program code."
   ]
  },
  {
   "cell_type": "code",
   "execution_count": null,
   "id": "d9e5ccdd",
   "metadata": {},
   "outputs": [],
   "source": [
    "Multithreading is defined as the ability of a processor to execute multiple threads concurrently.\n",
    "\n",
    "In a simple, single-core CPU, it is achieved using frequent switching between threads.\n",
    "\n",
    "This is termed as context switching.\n",
    "\n",
    "In context switching, the state of a thread is saved and state of another thread is loaded whenever any interrupt \n",
    "(due to I/O or manually set) takes place. \n",
    "\n",
    "Context switching takes place so frequently that all the threads appear to be running parallelly \n",
    "(this is termed as multitasking).\n"
   ]
  },
  {
   "cell_type": "code",
   "execution_count": null,
   "id": "a930adf4",
   "metadata": {},
   "outputs": [],
   "source": [
    "In Python, the threading module provides a very simple and intuitive API for spawning multiple threads in a program.\n",
    "\n",
    "Let us consider a simple example using threading module:"
   ]
  },
  {
   "cell_type": "code",
   "execution_count": 1,
   "id": "b35dc458",
   "metadata": {},
   "outputs": [
    {
     "name": "stdout",
     "output_type": "stream",
     "text": [
      "Square: 100Cube: 1000\n",
      "\n",
      "Done!\n"
     ]
    }
   ],
   "source": [
    "# Python program to illustrate the concept of threading\n",
    "# importing the threading module\n",
    "import threading\n",
    "\n",
    "def print_cube(num):\n",
    "    \"\"\"\n",
    "    function to print cube of given num\n",
    "    \"\"\"\n",
    "    print(\"Cube: {}\".format(num * num * num))\n",
    "\n",
    "def print_square(num):\n",
    "    \"\"\"\n",
    "    function to print square of given num\n",
    "    \"\"\"\n",
    "    print(\"Square: {}\".format(num * num))\n",
    "\n",
    "if __name__ == \"__main__\":\n",
    "    # creating thread\n",
    "    t1 = threading.Thread(target=print_square, args=(10,))\n",
    "    t2 = threading.Thread(target=print_cube, args=(10,))\n",
    "\n",
    "    # starting thread 1\n",
    "    t1.start()\n",
    "    # starting thread 2\n",
    "    t2.start()\n",
    "\n",
    "    # wait until thread 1 is completely executed\n",
    "    t1.join()\n",
    "    # wait until thread 2 is completely executed\n",
    "    t2.join()\n",
    "\n",
    "    # both threads completely executed\n",
    "    print(\"Done!\")\n"
   ]
  },
  {
   "cell_type": "code",
   "execution_count": null,
   "id": "4538a985",
   "metadata": {},
   "outputs": [],
   "source": [
    "Let us try to understand the above code:\n",
    "\n",
    "To import the threading module, we do:\n",
    "\n",
    "import threading\n",
    "\n",
    "To create a new thread, we create an object of Thread class. It takes following arguments:\n",
    "\n",
    "target: the function to be executed by thread\n",
    "    \n",
    "args: the arguments to be passed to the target function\n",
    "    \n",
    "In above example, we created 2 threads with different target functions:\n",
    "\n",
    "t1 = threading.Thread(target=print_square, args=(10,))\n",
    "t2 = threading.Thread(target=print_cube, args=(10,))\n",
    "\n",
    "To start a thread, we use start method of Thread class.\n",
    "\n",
    "t1.start()\n",
    "t2.start()\n",
    "\n",
    "Once the threads start, the current program (you can think of it like a main thread) also keeps on executing. \n",
    "\n",
    "In order to stop execution of current program until a thread is complete, we use join method.\n",
    "\n",
    "t1.join()\n",
    "t2.join()\n",
    "\n",
    "As a result, the current program will first wait for the completion of t1 and then t2. \n",
    "\n",
    "Once, they are finished, the remaining statements of current program are executed.\n"
   ]
  },
  {
   "cell_type": "code",
   "execution_count": 2,
   "id": "3298ed0a",
   "metadata": {},
   "outputs": [
    {
     "name": "stdout",
     "output_type": "stream",
     "text": [
      "first thread\n",
      "first thread\n",
      "first thread\n",
      "first thread\n",
      "first thread\n",
      "first thread\n",
      "first thread\n",
      "first thread\n",
      "first thread\n",
      "first thread\n"
     ]
    }
   ],
   "source": [
    "from threading import *\n",
    "\n",
    "class Thread1(Thread):\n",
    "    def run(self):\n",
    "        for i in range(10):\n",
    "            print('first thread')\n",
    "\n",
    "class Thread2(Thread):\n",
    "    def run(self):\n",
    "        for i in range(10):\n",
    "            print('second thread')\n",
    "\n",
    "a=Thread1()\n",
    "b=Thread2()\n",
    "a.start()"
   ]
  },
  {
   "cell_type": "code",
   "execution_count": 3,
   "id": "412e151c",
   "metadata": {},
   "outputs": [
    {
     "name": "stdout",
     "output_type": "stream",
     "text": [
      "first threadsecond thread\n",
      "\n",
      "second thread\n",
      "second thread\n",
      "second thread\n",
      "second thread\n",
      "first thread\n",
      "first thread\n",
      "first thread\n",
      "first thread\n"
     ]
    }
   ],
   "source": [
    "from threading import *\n",
    "\n",
    "class Thread1(Thread):\n",
    "    def run(self):\n",
    "        for i in range(5):\n",
    "            print('first thread')\n",
    "\n",
    "class Thread2(Thread):\n",
    "    def run(self):\n",
    "        for i in range(5):\n",
    "            print('second thread')\n",
    "\n",
    "a=Thread1()\n",
    "b=Thread2()\n",
    "a.start()\n",
    "b.start()"
   ]
  },
  {
   "cell_type": "code",
   "execution_count": 4,
   "id": "4ef8b51b",
   "metadata": {},
   "outputs": [
    {
     "name": "stdout",
     "output_type": "stream",
     "text": [
      "first threadsecond thread\n",
      "\n",
      "first threadsecond thread\n",
      "\n",
      "first thread\n",
      "second thread\n",
      "first threadsecond thread\n",
      "\n",
      "second thread\n",
      "first thread\n",
      "second threadfirst thread\n",
      "\n",
      "second thread\n",
      "first thread\n",
      "second threadfirst thread\n",
      "\n",
      "second threadfirst thread\n",
      "\n",
      "second threadfirst thread\n",
      "\n"
     ]
    }
   ],
   "source": [
    "from threading import *\n",
    "from time import sleep\n",
    "\n",
    "class Thread1(Thread):\n",
    "    def run(self):\n",
    "        for i in range(10):\n",
    "            print('first thread')\n",
    "            sleep(1)\n",
    "\n",
    "class Thread2(Thread):\n",
    "    def run(self):\n",
    "        for i in range(10):\n",
    "            print('second thread')\n",
    "            sleep(1)\n",
    "\n",
    "a=Thread1()\n",
    "b=Thread2()\n",
    "a.start()\n",
    "b.start()"
   ]
  },
  {
   "cell_type": "code",
   "execution_count": 5,
   "id": "4def5016",
   "metadata": {},
   "outputs": [
    {
     "name": "stdout",
     "output_type": "stream",
     "text": [
      "first thread\n",
      "second thread\n",
      "first thread\n",
      "second thread\n",
      "first thread\n",
      "second thread\n",
      "first thread\n",
      "second thread\n",
      "first thread\n",
      "second thread\n",
      "first thread\n",
      "second thread\n",
      "first thread\n",
      "second thread\n",
      "first thread\n",
      "second thread\n",
      "first thread\n",
      "second thread\n",
      "first thread\n",
      "second thread\n"
     ]
    }
   ],
   "source": [
    "from threading import *\n",
    "from time import sleep\n",
    "\n",
    "class Thread1(Thread):\n",
    "    def run(self):\n",
    "        for i in range(10):\n",
    "            print('first thread')\n",
    "            sleep(1)\n",
    "\n",
    "class Thread2(Thread):\n",
    "    def run(self):\n",
    "        for i in range(10):\n",
    "            print('second thread')\n",
    "            sleep(1)\n",
    "\n",
    "a=Thread1()\n",
    "sleep(0.2)\n",
    "b=Thread2()\n",
    "a.start()\n",
    "b.start()"
   ]
  },
  {
   "cell_type": "code",
   "execution_count": 6,
   "id": "bd4ec709",
   "metadata": {},
   "outputs": [
    {
     "name": "stdout",
     "output_type": "stream",
     "text": [
      "first threadsecond thread\n",
      "\n",
      "second threadfirst thread\n",
      "\n",
      "first threadsecond thread\n",
      "\n",
      "second threadfirst thread\n",
      "\n",
      "first threadsecond thread\n",
      "\n"
     ]
    }
   ],
   "source": [
    "from threading import *\n",
    "from time import sleep\n",
    "\n",
    "class Thread1(Thread):\n",
    "    def run(self):\n",
    "        for i in range(5):\n",
    "            print('first thread')\n",
    "            sleep(1)\n",
    "\n",
    "class Thread2(Thread):\n",
    "    def run(self):\n",
    "        for i in range(5):\n",
    "            print('second thread')\n",
    "            sleep(1)\n",
    "\n",
    "a=Thread1()\n",
    "sleep(0.2)\n",
    "b=Thread2()\n",
    "a.start()\n",
    "b.start()\n",
    "a.join()\n",
    "b.join()"
   ]
  },
  {
   "cell_type": "code",
   "execution_count": 7,
   "id": "53c16dca",
   "metadata": {},
   "outputs": [
    {
     "name": "stdout",
     "output_type": "stream",
     "text": [
      "first thread\n",
      "second thread\n",
      "first thread\n",
      "second thread\n",
      "first thread\n",
      "second thread\n",
      "first thread\n",
      "second thread\n",
      "first thread\n",
      "second thread\n"
     ]
    }
   ],
   "source": [
    "from threading import *\n",
    "from time import sleep\n",
    "\n",
    "class Thread1(Thread):\n",
    "    def run(self):\n",
    "        for i in range(5):\n",
    "            print('first thread')\n",
    "            sleep(1)\n",
    "\n",
    "class Thread2(Thread):\n",
    "    def run(self):\n",
    "        for i in range(5):\n",
    "            print('second thread')\n",
    "            sleep(1)\n",
    "\n",
    "a=Thread1()\n",
    "b=Thread2()\n",
    "a.start()\n",
    "sleep(0.2)\n",
    "b.start()\n",
    "a.join()\n",
    "b.join()"
   ]
  },
  {
   "cell_type": "code",
   "execution_count": 9,
   "id": "3511f5e2",
   "metadata": {},
   "outputs": [
    {
     "name": "stdout",
     "output_type": "stream",
     "text": [
      "This is thread MainThread\n"
     ]
    }
   ],
   "source": [
    "import threading\n",
    "\n",
    "print('This is thread',threading.current_thread().getName())"
   ]
  },
  {
   "cell_type": "code",
   "execution_count": 14,
   "id": "b6b3692d",
   "metadata": {},
   "outputs": [
    {
     "name": "stdout",
     "output_type": "stream",
     "text": [
      "first thread\n",
      "Thread-28\n",
      "second thread\n",
      "Thread-29\n",
      "first thread\n",
      "Thread-28\n",
      "second thread\n",
      "Thread-29\n",
      "first thread\n",
      "Thread-28\n",
      "second thread\n",
      "Thread-29\n",
      "first thread\n",
      "Thread-28\n",
      "second thread\n",
      "Thread-29\n",
      "first thread\n",
      "Thread-28\n",
      "second thread\n",
      "Thread-29\n"
     ]
    }
   ],
   "source": [
    "# multithreading\n",
    "\n",
    "import threading\n",
    "from threading import *\n",
    "from time import sleep\n",
    "\n",
    "class Thread1(Thread):\n",
    "    def run(self):\n",
    "        for i in range(5):\n",
    "            print('first thread')\n",
    "            print(threading.current_thread().getName()) #main thread\n",
    "            sleep(5)\n",
    "\n",
    "class Thread2(Thread):\n",
    "    def run(self):\n",
    "        for i in range(5):\n",
    "            print('second thread')\n",
    "            print(threading.current_thread().getName())\n",
    "            sleep(5)\n",
    "\n",
    "a=Thread1()\n",
    "b=Thread2()\n",
    "a.start()\n",
    "sleep(0.2)\n",
    "b.start()\n",
    "a.join()\n",
    "b.join()"
   ]
  },
  {
   "cell_type": "code",
   "execution_count": null,
   "id": "3e36983b",
   "metadata": {},
   "outputs": [],
   "source": []
  }
 ],
 "metadata": {
  "kernelspec": {
   "display_name": "Python 3 (ipykernel)",
   "language": "python",
   "name": "python3"
  },
  "language_info": {
   "codemirror_mode": {
    "name": "ipython",
    "version": 3
   },
   "file_extension": ".py",
   "mimetype": "text/x-python",
   "name": "python",
   "nbconvert_exporter": "python",
   "pygments_lexer": "ipython3",
   "version": "3.9.7"
  }
 },
 "nbformat": 4,
 "nbformat_minor": 5
}
