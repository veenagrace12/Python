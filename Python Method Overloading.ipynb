{
 "cells": [
  {
   "cell_type": "markdown",
   "id": "b81b2eb0",
   "metadata": {},
   "source": [
    "# Python | Method Overloading"
   ]
  },
  {
   "cell_type": "code",
   "execution_count": 12,
   "id": "a51cfddc",
   "metadata": {},
   "outputs": [],
   "source": [
    "\n",
    "#Like other languages (for example, method overloading in C++) do, python does not support method overloading by default. \n",
    "\n",
    "#But there are different ways to achieve method overloading in Python. \n",
    "\n",
    "#The problem with method overloading in Python is that we may overload the methods \n",
    "\n",
    "#But can only use the latest defined method. \n"
   ]
  },
  {
   "cell_type": "code",
   "execution_count": 3,
   "id": "55eec3ce",
   "metadata": {},
   "outputs": [
    {
     "name": "stdout",
     "output_type": "stream",
     "text": [
      "100\n"
     ]
    }
   ],
   "source": [
    "# First product method.\n",
    "# Takes two argument and print their product\n",
    "def product(a, b):\n",
    "    p = a * b\n",
    "    print(p)\n",
    "    \n",
    "# Second product method\n",
    "# Takes three argument and print their product\n",
    "def product(a, b, c):\n",
    "    p = a * b*c\n",
    "    print(p)\n",
    "\n",
    "# This line will call the second product method\n",
    "product(4, 5, 5)\n"
   ]
  },
  {
   "cell_type": "code",
   "execution_count": 10,
   "id": "7b1dbbed",
   "metadata": {},
   "outputs": [],
   "source": [
    "#Method 1 (Not The Most Efficient Method):\n",
    "\n",
    "#We can use the arguments to make the same function work differently i.e. as per the arguments."
   ]
  },
  {
   "cell_type": "code",
   "execution_count": 9,
   "id": "8ff955e7",
   "metadata": {},
   "outputs": [
    {
     "name": "stdout",
     "output_type": "stream",
     "text": [
      "11\n",
      "Hi Friends\n"
     ]
    }
   ],
   "source": [
    "\n",
    "# Function to take multiple arguments\n",
    "def add(datatype, *args):\n",
    "\n",
    "    # if datatype is int\n",
    "    # initialize answer as 0\n",
    "    if datatype =='int':\n",
    "        answer = 0\n",
    "        \n",
    "    # if datatype is str\n",
    "    # initialize answer as ''\n",
    "    if datatype =='str':\n",
    "        answer =''\n",
    "\n",
    "    # Traverse through the arguments\n",
    "    for x in args:\n",
    "\n",
    "        # This will do addition if the\n",
    "        # arguments are int. Or concatenation\n",
    "        # if the arguments are str\n",
    "        answer = answer + x\n",
    "\n",
    "    print(answer)\n",
    "\n",
    "# Integer\n",
    "add('int', 5, 6)\n",
    "\n",
    "# String\n",
    "add('str', 'Hi ', 'Friends')\n"
   ]
  },
  {
   "cell_type": "code",
   "execution_count": null,
   "id": "1ea3d5b3",
   "metadata": {},
   "outputs": [],
   "source": [
    "#Method 2 (Efficient One):\n",
    "'''\n",
    "By Using Multiple Dispatch Decorator \n",
    "\n",
    "Multiple Dispatch Decorator Can be installed by: \n",
    "\n",
    "pip3 install multipledispatch\n",
    "'''"
   ]
  },
  {
   "cell_type": "code",
   "execution_count": 8,
   "id": "5713fb39",
   "metadata": {},
   "outputs": [
    {
     "name": "stdout",
     "output_type": "stream",
     "text": [
      "12\n",
      "17.204\n"
     ]
    }
   ],
   "source": [
    "\n",
    "from multipledispatch import dispatch\n",
    "\n",
    "#passing one parameter\n",
    "@dispatch(int,int)\n",
    "def product(first,second):\n",
    "    result = first*second\n",
    "    print(result);\n",
    "\n",
    "#passing two parameters\n",
    "@dispatch(int,int,int)\n",
    "def product(first,second,third):\n",
    "    result = first * second * third\n",
    "    print(result);\n",
    "\n",
    "#you can also pass data type of any value as per requirement\n",
    "@dispatch(float,float,float)\n",
    "def product(first,second,third):\n",
    "    result = first * second * third\n",
    "    print(result);\n",
    "\n",
    "\n",
    "#calling product method with 2 arguments\n",
    "product(2,3,2) #this will give output of 12\n",
    "product(2.2,3.4,2.3) # this will give output of 17.204\n"
   ]
  },
  {
   "cell_type": "code",
   "execution_count": null,
   "id": "f2acced2",
   "metadata": {},
   "outputs": [],
   "source": [
    "\n",
    "#Here, we create a class with one method Hello(). The first parameter of this method is set to None. \n",
    "\n",
    "#This will give us the option to call it with or without a parameter.\n",
    "\n",
    "#An object is also created based on the class and we will call its method using zero and one parameter.\n"
   ]
  },
  {
   "cell_type": "code",
   "execution_count": 7,
   "id": "0522d73d",
   "metadata": {},
   "outputs": [
    {
     "name": "stdout",
     "output_type": "stream",
     "text": [
      "Hello \n",
      "Hello Friends\n"
     ]
    }
   ],
   "source": [
    "class Person:\n",
    "    def Hello(self, name=None):\n",
    "        if name is not None:\n",
    "            print('Hello ' + name)\n",
    "        else:\n",
    "            print('Hello ')\n",
    "# Create instance\n",
    "obj = Person()\n",
    "# Call the method\n",
    "obj.Hello()\n",
    "# Call the method with a parameter\n",
    "obj.Hello('Friends')"
   ]
  },
  {
   "cell_type": "code",
   "execution_count": 6,
   "id": "6d4ff40a",
   "metadata": {},
   "outputs": [
    {
     "name": "stdout",
     "output_type": "stream",
     "text": [
      "Area Value: 0\n",
      "Area Value: 16\n",
      "Area Value: 15\n"
     ]
    }
   ],
   "source": [
    "\n",
    "#In the following example, we will overload the area method. \n",
    "\n",
    "#If there is no argument then it returns 0. \n",
    "\n",
    "#And, If we have one argument then it returns the square of the value and assumes you are computing the area of a square. \n",
    "\n",
    "#Also, if we have two arguments then it returns the product of the two values and assumes you are computing \n",
    " the area of a rectangle.\n",
    "\n",
    "\n",
    "# class\n",
    "class Computer:\n",
    "# area method\n",
    "    def area(self, x = None, y = None):\n",
    "        if x != None and y != None:\n",
    "            return x * y\n",
    "        elif x != None:\n",
    "            return x * x\n",
    "        else:\n",
    "            return 0\n",
    "# object\n",
    "obj = Computer()\n",
    "# zero argument\n",
    "print(\"Area Value:\", obj.area())\n",
    "# one argument\n",
    "print(\"Area Value:\", obj.area(4))\n",
    "# two argument\n",
    "print(\"Area Value:\", obj.area(3, 5))\n"
   ]
  },
  {
   "cell_type": "code",
   "execution_count": null,
   "id": "5cd42531",
   "metadata": {},
   "outputs": [],
   "source": []
  }
 ],
 "metadata": {
  "kernelspec": {
   "display_name": "Python 3 (ipykernel)",
   "language": "python",
   "name": "python3"
  },
  "language_info": {
   "codemirror_mode": {
    "name": "ipython",
    "version": 3
   },
   "file_extension": ".py",
   "mimetype": "text/x-python",
   "name": "python",
   "nbconvert_exporter": "python",
   "pygments_lexer": "ipython3",
   "version": "3.9.7"
  }
 },
 "nbformat": 4,
 "nbformat_minor": 5
}
