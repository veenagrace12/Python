{
 "cells": [
  {
   "cell_type": "markdown",
   "id": "60a4fe8b",
   "metadata": {},
   "source": [
    "# Python OOPs "
   ]
  },
  {
   "cell_type": "code",
   "execution_count": null,
   "id": "2eee0f8f",
   "metadata": {},
   "outputs": [],
   "source": [
    "# OOPs Features\n",
    "\n",
    "#Class\n",
    "#Objects\n",
    "#Polymorphism\n",
    "#Encapsulation\n",
    "#Inheritance\n",
    "#Data abstraction\n"
   ]
  },
  {
   "cell_type": "code",
   "execution_count": null,
   "id": "913aad78",
   "metadata": {},
   "outputs": [],
   "source": [
    "# Class \n",
    "\n",
    "A class is a collection of objects. \n",
    "\n",
    "A class contains the blueprints or the prototype from which the objects are being created. \n",
    "\n",
    "It is a logical entity that contains some attributes and methods. \n",
    "\n",
    "Some points on Python class:  \n",
    "\n",
    "Classes are created by keyword class.\n",
    "\n",
    "Attributes are the variables that belong to a class.\n",
    "\n",
    "Attributes are always public and can be accessed using the dot (.) operator. Eg.: Myclass.Myattribute\n",
    "    \n",
    "Class Syntax:\n",
    "\n",
    "class ClassName:\n",
    "   # Statement-1\n",
    "   .\n",
    "   .\n",
    "   .\n",
    "   # Statement-N"
   ]
  },
  {
   "cell_type": "code",
   "execution_count": 1,
   "id": "5fbb38b2",
   "metadata": {},
   "outputs": [
    {
     "name": "stdout",
     "output_type": "stream",
     "text": [
      "10\n"
     ]
    }
   ],
   "source": [
    "class veena:\n",
    "    a=10 #attribute\n",
    "    def display(self):\n",
    "        print(self.a)\n",
    "b=veena() #object declaration\n",
    "b.display()  #object name.method name()"
   ]
  },
  {
   "cell_type": "code",
   "execution_count": null,
   "id": "1be6c3ac",
   "metadata": {},
   "outputs": [],
   "source": [
    "# The __init__ method \n",
    "\n",
    "The __init__ method is similar to constructors in C++ and Java. It is run as soon as an object of a class is instantiated. \n",
    "\n",
    "The method is useful to do any initialization you want to do with your object. \n"
   ]
  },
  {
   "cell_type": "code",
   "execution_count": null,
   "id": "aaf78940",
   "metadata": {},
   "outputs": [],
   "source": [
    "# Objects\n",
    "\n",
    "Almost everything in Python is an object, with its properties and methods.\n",
    "\n",
    "A Class is like an object constructor, or a \"blueprint\" for creating objects.\n"
   ]
  },
  {
   "cell_type": "code",
   "execution_count": 6,
   "id": "a14eb266",
   "metadata": {},
   "outputs": [
    {
     "name": "stdout",
     "output_type": "stream",
     "text": [
      "10\n"
     ]
    }
   ],
   "source": [
    "class veena:\n",
    "    def __init__(self,a,b,c):\n",
    "        self.x=a\n",
    "        self.y=b\n",
    "        self.z=c\n",
    "    def display(self):\n",
    "        print(self.x)\n",
    "d=veena(10,34,12) #object declaration\n",
    "d.display()  #object name.method name()"
   ]
  },
  {
   "cell_type": "code",
   "execution_count": null,
   "id": "eea38ed9",
   "metadata": {},
   "outputs": [],
   "source": [
    "# Python Constructor\n",
    "\n",
    "A constructor is a special type of method (function) which is used to initialize the instance members of the class.\n",
    "\n",
    "In C++ or Java, the constructor has the same name as its class, but it treats constructor differently in Python. \n",
    "\n",
    "It is used to create an object.\n",
    "\n",
    "Constructors can be of two types.\n",
    "\n",
    "* Parameterized Constructor\n",
    "  \n",
    "The parameterized constructor has multiple parameters along with the self. \n",
    "\n",
    "* Non-parameterized Constructor\n",
    "\n",
    "The non-parameterized constructor uses when we do not want to manipulate \n",
    "the value or the constructor that has only self as an argument. \n"
   ]
  },
  {
   "cell_type": "code",
   "execution_count": 7,
   "id": "726a8674",
   "metadata": {},
   "outputs": [
    {
     "name": "stdout",
     "output_type": "stream",
     "text": [
      "Enter the Car Name:honda civic\n",
      "Enter the Car Fuel:petrol\n",
      "Enter the Car Transmission:manual\n",
      "Enter the Car Seats:5\n",
      "Enter the Car Price:800000\n",
      "Car Name honda civic\n",
      "Car Fuel petrol\n",
      "Car Transmission manual\n",
      "Car Seats 5\n",
      "Car Price 800000\n"
     ]
    }
   ],
   "source": [
    "class Cars:\n",
    "    def __init__(self,Name,Fuel,Transmission,Seats,Price):\n",
    "        self.n=Name #variable declaration\n",
    "        self.f=Fuel\n",
    "        self.t=Transmission\n",
    "        self.s=Seats\n",
    "        self.p=Price\n",
    "    def output(self):\n",
    "        print(\"Car Name\",self.n)\n",
    "        print(\"Car Fuel\",self.f)\n",
    "        print(\"Car Transmission\",self.t)\n",
    "        print(\"Car Seats\",self.s)\n",
    "        print(\"Car Price\",self.p)\n",
    "cn=input(\"Enter the Car Name:\")\n",
    "cf=input(\"Enter the Car Fuel:\")\n",
    "ct=input(\"Enter the Car Transmission:\")\n",
    "cs=int(input(\"Enter the Car Seats:\"))\n",
    "cp=int(input(\"Enter the Car Price:\"))\n",
    "vehicle=Cars(cn,cf,ct,cs,cp)\n",
    "vehicle.output()          "
   ]
  },
  {
   "cell_type": "code",
   "execution_count": null,
   "id": "f88c0c60",
   "metadata": {},
   "outputs": [],
   "source": [
    "# Inheritance\n",
    "\n",
    "Inheritance is the capability of one class to derive or inherit the properties from another class. \n",
    "\n",
    "The class that derives properties is called the derived class or child class and the class from which the properties \n",
    "are being derived is called the base class or parent class.\n"
   ]
  },
  {
   "cell_type": "code",
   "execution_count": null,
   "id": "99be8964",
   "metadata": {},
   "outputs": [],
   "source": [
    "# Single Inheritance"
   ]
  },
  {
   "cell_type": "code",
   "execution_count": 8,
   "id": "28e9ac56",
   "metadata": {},
   "outputs": [
    {
     "name": "stdout",
     "output_type": "stream",
     "text": [
      "This is parent class\n",
      "This is child class\n"
     ]
    }
   ],
   "source": [
    "\n",
    "class Parent:\n",
    "    def output(self):\n",
    "        print(\"This is parent class\")\n",
    "class Child(Parent):\n",
    "    def output1(self):\n",
    "        print(\"This is child class\")\n",
    "a=Child()\n",
    "a.output()\n",
    "a.output1()\n",
    "    "
   ]
  },
  {
   "cell_type": "code",
   "execution_count": null,
   "id": "3dda253e",
   "metadata": {},
   "outputs": [],
   "source": [
    "# Multilevel Inheritance"
   ]
  },
  {
   "cell_type": "code",
   "execution_count": 9,
   "id": "57325824",
   "metadata": {},
   "outputs": [
    {
     "name": "stdout",
     "output_type": "stream",
     "text": [
      "This is grandparent class\n",
      "This is parent class\n",
      "This is child class\n"
     ]
    }
   ],
   "source": [
    "class GrandParent:\n",
    "    def output(self):\n",
    "        print(\"This is grandparent class\")\n",
    "class Parent(GrandParent):\n",
    "    def output1(self):\n",
    "        print(\"This is parent class\")\n",
    "class Child(Parent):\n",
    "    def output2(self):\n",
    "        print(\"This is child class\")\n",
    "a=Child()\n",
    "a.output()\n",
    "a.output1()\n",
    "a.output2()"
   ]
  },
  {
   "cell_type": "code",
   "execution_count": null,
   "id": "e311cfac",
   "metadata": {},
   "outputs": [],
   "source": [
    "# Hierarchy Inheritance: one parent and 2 childs"
   ]
  },
  {
   "cell_type": "code",
   "execution_count": 10,
   "id": "495d8c9d",
   "metadata": {},
   "outputs": [
    {
     "name": "stdout",
     "output_type": "stream",
     "text": [
      "This is father class\n",
      "This is child1 class\n",
      "This is father class\n",
      "This is child2 class\n"
     ]
    }
   ],
   "source": [
    "class Father:\n",
    "    def output(self):\n",
    "        print(\"This is father class\")\n",
    "class Child1(Father):\n",
    "    def output1(self):\n",
    "        print(\"This is child1 class\")\n",
    "class Child2(Father):\n",
    "    def output2(self):\n",
    "        print(\"This is child2 class\")\n",
    "a=Child1()\n",
    "b=Child2()\n",
    "a.output()\n",
    "a.output1()\n",
    "b.output()\n",
    "b.output2()"
   ]
  },
  {
   "cell_type": "code",
   "execution_count": null,
   "id": "c936a629",
   "metadata": {},
   "outputs": [],
   "source": [
    "# Multiple Inheritance"
   ]
  },
  {
   "cell_type": "code",
   "execution_count": 11,
   "id": "28865738",
   "metadata": {},
   "outputs": [
    {
     "name": "stdout",
     "output_type": "stream",
     "text": [
      "This is father class\n",
      "This is mother class\n",
      "This is child class\n"
     ]
    }
   ],
   "source": [
    "class Father:\n",
    "    def output(self):\n",
    "        print(\"This is father class\")\n",
    "class Mother:\n",
    "    def output1(self):\n",
    "        print(\"This is mother class\")\n",
    "class Child(Father,Mother):\n",
    "    def output2(self):\n",
    "        print(\"This is child class\")\n",
    "a=Child()\n",
    "a.output()\n",
    "a.output1()\n",
    "a.output2()"
   ]
  },
  {
   "cell_type": "code",
   "execution_count": null,
   "id": "27ccc1c7",
   "metadata": {},
   "outputs": [],
   "source": [
    "# Polymorphism"
   ]
  },
  {
   "cell_type": "code",
   "execution_count": null,
   "id": "dad224ed",
   "metadata": {},
   "outputs": [],
   "source": [
    "\n",
    "The word polymorphism means having many forms. \n",
    "\n",
    "In programming, polymorphism means the same function name (but different signatures) being used for different types.\n",
    "\n",
    "#Method Overloading\n",
    "\n",
    "Method Overloading is an example of Compile time polymorphism.\n",
    "\n",
    "In this, more than one method of the same class shares the same method name having different signatures. \n",
    "\n",
    "Method overloading is used to add more to the behavior of methods and there is no need of more than \n",
    "one class for method overloading.\n",
    "\n",
    "# Method Overriding\n",
    "\n",
    "Method overriding is an example of run time polymorphism. \n",
    "\n",
    "In this, the specific implementation of the method that is already provided by \n",
    "the parent class is provided by the child class. \n",
    "\n",
    "It is used to change the behavior of existing methods and there is a need for at least two classes for method overriding. \n",
    "\n",
    "In method overriding, inheritance always required as it is done between parent class(superclass) and \n",
    "child class(child class) methods.\n"
   ]
  },
  {
   "cell_type": "code",
   "execution_count": 12,
   "id": "bbab94fa",
   "metadata": {},
   "outputs": [
    {
     "name": "stdout",
     "output_type": "stream",
     "text": [
      "1 2 3\n"
     ]
    },
    {
     "ename": "TypeError",
     "evalue": "Load.a() missing 1 required positional argument: 'd'",
     "output_type": "error",
     "traceback": [
      "\u001b[1;31m---------------------------------------------------------------------------\u001b[0m",
      "\u001b[1;31mTypeError\u001b[0m                                 Traceback (most recent call last)",
      "Input \u001b[1;32mIn [12]\u001b[0m, in \u001b[0;36m<module>\u001b[1;34m\u001b[0m\n\u001b[0;32m      4\u001b[0m e\u001b[38;5;241m=\u001b[39mLoad()\n\u001b[0;32m      5\u001b[0m e\u001b[38;5;241m.\u001b[39ma(\u001b[38;5;241m1\u001b[39m,\u001b[38;5;241m2\u001b[39m,\u001b[38;5;241m3\u001b[39m)\n\u001b[1;32m----> 6\u001b[0m \u001b[43me\u001b[49m\u001b[38;5;241;43m.\u001b[39;49m\u001b[43ma\u001b[49m\u001b[43m(\u001b[49m\u001b[38;5;241;43m1\u001b[39;49m\u001b[43m,\u001b[49m\u001b[38;5;241;43m2\u001b[39;49m\u001b[43m)\u001b[49m\n\u001b[0;32m      7\u001b[0m e\u001b[38;5;241m.\u001b[39ma(\u001b[38;5;241m1\u001b[39m)\n",
      "\u001b[1;31mTypeError\u001b[0m: Load.a() missing 1 required positional argument: 'd'"
     ]
    }
   ],
   "source": [
    "#Method Overloading\n",
    "\n",
    "class Load:\n",
    "    def a(self,b,c,d):\n",
    "        print(b,c,d)\n",
    "e=Load()\n",
    "e.a(1,2,3)\n",
    "e.a(1,2)\n",
    "e.a(1)"
   ]
  },
  {
   "cell_type": "code",
   "execution_count": 13,
   "id": "31ed2fda",
   "metadata": {},
   "outputs": [
    {
     "name": "stdout",
     "output_type": "stream",
     "text": [
      "1 2 3\n",
      "1 2 None\n",
      "1 None None\n"
     ]
    }
   ],
   "source": [
    "class Load:\n",
    "    def a(self,b,c=None,d=None):\n",
    "        print(b,c,d)\n",
    "e=Load() \n",
    "e.a(1,2,3)\n",
    "e.a(1,2)  #here overloading overcome and get the output\n",
    "e.a(1)"
   ]
  },
  {
   "cell_type": "code",
   "execution_count": 14,
   "id": "8038b866",
   "metadata": {},
   "outputs": [
    {
     "name": "stdout",
     "output_type": "stream",
     "text": [
      "This is child class\n"
     ]
    }
   ],
   "source": [
    "# Method Overriding\n",
    "\n",
    "class Parent:\n",
    "    def display(self):\n",
    "        print(\"This is parent class\")\n",
    "class Child:\n",
    "    def display(self):\n",
    "        print(\"This is child class\")\n",
    "a=Child()\n",
    "a.display()"
   ]
  },
  {
   "cell_type": "code",
   "execution_count": null,
   "id": "e7467559",
   "metadata": {},
   "outputs": [],
   "source": [
    "# Use the super() Function\n",
    " \n",
    "Python also has a super() function that will make the child class inherit all the methods and properties from its parent.\n"
   ]
  },
  {
   "cell_type": "code",
   "execution_count": 25,
   "id": "9d02fb1c",
   "metadata": {},
   "outputs": [
    {
     "name": "stdout",
     "output_type": "stream",
     "text": [
      "This is child class\n",
      "This is parent class\n"
     ]
    }
   ],
   "source": [
    "class Parent:\n",
    "    def display(self): #self() is current class\n",
    "        print(\"This is parent class\")\n",
    "class Child(Parent):\n",
    "    def display(self):\n",
    "        print(\"This is child class\")\n",
    "        super().display() #super() is parent class\n",
    "b=Child()\n",
    "b.display()"
   ]
  },
  {
   "cell_type": "code",
   "execution_count": null,
   "id": "58cd191f",
   "metadata": {},
   "outputs": [],
   "source": [
    "# Encapsulation"
   ]
  },
  {
   "cell_type": "code",
   "execution_count": null,
   "id": "2cf63818",
   "metadata": {},
   "outputs": [],
   "source": [
    "\n",
    "It describes the idea of wrapping data and the methods that work on data within one unit. \n",
    "\n",
    "This puts restrictions on accessing variables and methods directly and can prevent the accidental modification of data. \n",
    "\n",
    "To prevent accidental change, an object’s variable can only be changed by an object’s method. \n",
    "\n",
    "Those types of variables are known as private.\n",
    "\n",
    "Binding of class(methods and variables(attributes))\n",
    "\n",
    "public\n",
    "\n",
    "private __\n",
    "\n",
    "protected _"
   ]
  },
  {
   "cell_type": "code",
   "execution_count": 26,
   "id": "21f86adf",
   "metadata": {},
   "outputs": [
    {
     "name": "stdout",
     "output_type": "stream",
     "text": [
      "This is child class 10\n"
     ]
    }
   ],
   "source": [
    "class GrandParent:\n",
    "    def __init__(self,a):\n",
    "        self._b=a #protected:only inherit people will accessed\n",
    "class Parent(GrandParent):\n",
    "    def output1(self):\n",
    "        print(self._b)\n",
    "class Child(Parent):\n",
    "    def output2(self):\n",
    "        print(\"This is child class\",self._b)\n",
    "c=Child(10)\n",
    "c.output2()"
   ]
  },
  {
   "cell_type": "code",
   "execution_count": 27,
   "id": "fbb93434",
   "metadata": {},
   "outputs": [
    {
     "name": "stdout",
     "output_type": "stream",
     "text": [
      "This is child class 10\n"
     ]
    }
   ],
   "source": [
    "class GrandParent:\n",
    "    def __init__(self,a):\n",
    "        self.b=a \n",
    "class Parent(GrandParent):\n",
    "    def output1(self):\n",
    "        print(self.b) #public:anyone can access\n",
    "class Child(Parent):\n",
    "    def output2(self):\n",
    "        print(\"This is child class\",self.b)\n",
    "c=Child(10)\n",
    "c.output2()"
   ]
  },
  {
   "cell_type": "code",
   "execution_count": 28,
   "id": "8840abf8",
   "metadata": {},
   "outputs": [
    {
     "ename": "AttributeError",
     "evalue": "'Child' object has no attribute '_Child__b'",
     "output_type": "error",
     "traceback": [
      "\u001b[1;31m---------------------------------------------------------------------------\u001b[0m",
      "\u001b[1;31mAttributeError\u001b[0m                            Traceback (most recent call last)",
      "Input \u001b[1;32mIn [28]\u001b[0m, in \u001b[0;36m<module>\u001b[1;34m\u001b[0m\n\u001b[0;32m      9\u001b[0m         \u001b[38;5;28mprint\u001b[39m(\u001b[38;5;124m\"\u001b[39m\u001b[38;5;124mThis is child class\u001b[39m\u001b[38;5;124m\"\u001b[39m,\u001b[38;5;28mself\u001b[39m\u001b[38;5;241m.\u001b[39m__b)\n\u001b[0;32m     10\u001b[0m c\u001b[38;5;241m=\u001b[39mChild(\u001b[38;5;241m10\u001b[39m)\n\u001b[1;32m---> 11\u001b[0m \u001b[43mc\u001b[49m\u001b[38;5;241;43m.\u001b[39;49m\u001b[43moutput2\u001b[49m\u001b[43m(\u001b[49m\u001b[43m)\u001b[49m\n",
      "Input \u001b[1;32mIn [28]\u001b[0m, in \u001b[0;36mChild.output2\u001b[1;34m(self)\u001b[0m\n\u001b[0;32m      8\u001b[0m \u001b[38;5;28;01mdef\u001b[39;00m \u001b[38;5;21moutput2\u001b[39m(\u001b[38;5;28mself\u001b[39m):\n\u001b[1;32m----> 9\u001b[0m     \u001b[38;5;28mprint\u001b[39m(\u001b[38;5;124m\"\u001b[39m\u001b[38;5;124mThis is child class\u001b[39m\u001b[38;5;124m\"\u001b[39m,\u001b[38;5;28;43mself\u001b[39;49m\u001b[38;5;241;43m.\u001b[39;49m\u001b[43m__b\u001b[49m)\n",
      "\u001b[1;31mAttributeError\u001b[0m: 'Child' object has no attribute '_Child__b'"
     ]
    }
   ],
   "source": [
    "class GrandParent:\n",
    "    def __init__(self,a):\n",
    "        self.__b=a #private:no one can access\n",
    "class Parent(GrandParent):\n",
    "    def output1(self):\n",
    "        print(self.__b)\n",
    "class Child(Parent):\n",
    "    def output2(self):\n",
    "        print(\"This is child class\",self.__b)\n",
    "c=Child(10)\n",
    "c.output2()"
   ]
  },
  {
   "cell_type": "code",
   "execution_count": null,
   "id": "01952d93",
   "metadata": {},
   "outputs": [],
   "source": [
    "# Data Abstraction\n",
    "\n",
    "Abstraction is used to hide the internal functionality of the function from the users. \n",
    "\n",
    "The users only interact with the basic implementation of the function, but inner working is hidden. \n",
    "\n",
    "User is familiar with that \"what function does\" but they don't know \"how it does.\"\n",
    "\n",
    "Abstraction method is no body.\n",
    "\n",
    "Abstract base class cannot create object.\n",
    "\n",
    "A class contain one or more abstract methods then it is said to an Abstract base class.\n"
   ]
  },
  {
   "cell_type": "code",
   "execution_count": 30,
   "id": "8067bd3e",
   "metadata": {},
   "outputs": [
    {
     "name": "stdout",
     "output_type": "stream",
     "text": [
      "This is child class 10\n",
      "This is parent class\n",
      "This is parent class\n"
     ]
    }
   ],
   "source": [
    "from abc import ABC,abstractmethod\n",
    "class Parent(ABC):\n",
    "    @abstractmethod #decorator\n",
    "    def x(self):\n",
    "        pass\n",
    "    def y(self):\n",
    "        print(\"This is parent class\")\n",
    "class Child(Parent):\n",
    "    def x(self,a):\n",
    "        print(\"This is child class\",a)\n",
    "        super().y()\n",
    "d=Child()\n",
    "d.x(10)\n",
    "d.y()\n"
   ]
  },
  {
   "cell_type": "code",
   "execution_count": 31,
   "id": "f9ba7fa3",
   "metadata": {},
   "outputs": [
    {
     "name": "stdout",
     "output_type": "stream",
     "text": [
      "This is child class 10\n"
     ]
    }
   ],
   "source": [
    "from abc import ABC,abstractmethod\n",
    "class Parent(ABC):\n",
    "    @abstractmethod #decorator\n",
    "    def x(self):\n",
    "        pass\n",
    "class Child(Parent):\n",
    "    def x(self,a):\n",
    "        print(\"This is child class\",a)\n",
    "d=Child()\n",
    "d.x(10)"
   ]
  },
  {
   "cell_type": "code",
   "execution_count": null,
   "id": "669544b9",
   "metadata": {},
   "outputs": [],
   "source": []
  }
 ],
 "metadata": {
  "kernelspec": {
   "display_name": "Python 3 (ipykernel)",
   "language": "python",
   "name": "python3"
  },
  "language_info": {
   "codemirror_mode": {
    "name": "ipython",
    "version": 3
   },
   "file_extension": ".py",
   "mimetype": "text/x-python",
   "name": "python",
   "nbconvert_exporter": "python",
   "pygments_lexer": "ipython3",
   "version": "3.9.7"
  }
 },
 "nbformat": 4,
 "nbformat_minor": 5
}
